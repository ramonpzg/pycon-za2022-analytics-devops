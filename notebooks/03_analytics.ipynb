{
 "cells": [
  {
   "cell_type": "markdown",
   "id": "naked-easter",
   "metadata": {},
   "source": [
    "# 02 Interactive Dashboards"
   ]
  },
  {
   "cell_type": "markdown",
   "id": "saved-preliminary",
   "metadata": {},
   "source": [
    "> \"Above all else show the data.\" ~ Edward Tufte"
   ]
  },
  {
   "cell_type": "markdown",
   "id": "wireless-chemistry",
   "metadata": {},
   "source": [
    "![img](https://upload.wikimedia.org/wikipedia/commons/thumb/a/a0/Sydney_Australia._%2821339175489%29.jpg/1200px-Sydney_Australia._%2821339175489%29.jpg)"
   ]
  },
  {
   "cell_type": "markdown",
   "id": "pressing-ivory",
   "metadata": {},
   "source": [
    "## Table of Contents"
   ]
  },
  {
   "cell_type": "markdown",
   "id": "turned-developer",
   "metadata": {},
   "source": [
    "0. The Dashboard\n",
    "1. Scenario\n",
    "2. Use Cases\n",
    "3. The Data\n",
    "4. Top-Down Dashboard Breakdown\n",
    "5. Putting it all Together\n",
    "6. Summary"
   ]
  },
  {
   "cell_type": "code",
   "execution_count": null,
   "id": "intensive-lebanon",
   "metadata": {},
   "outputs": [],
   "source": [
    "import pandas as pd, numpy as np, os\n",
    "import matplotlib.pyplot as plt\n",
    "import holoviews as hv, panel as pn\n",
    "from holoviews import dim, opts\n",
    "import geopandas as gpd, geoviews as gv\n",
    "from holoviews.element import tiles\n",
    "import IPython\n",
    "\n",
    "hv.extension('bokeh', 'matplotlib')\n",
    "\n",
    "pn.extension()\n",
    "\n",
    "pd.options.display.max_columns = None\n",
    "pd.options.display.max_rows = None\n",
    "pd.options.display.float_format = '{:.2f}'.format"
   ]
  },
  {
   "cell_type": "markdown",
   "id": "removable-advertiser",
   "metadata": {},
   "source": [
    "## 00. The Dashboard"
   ]
  },
  {
   "cell_type": "markdown",
   "id": "ultimate-locator",
   "metadata": {},
   "source": [
    "There is an HTML copy of the dashboard available in a folder called, **dashboards**, and the following command run and display the dasboard in your notebook."
   ]
  },
  {
   "cell_type": "code",
   "execution_count": null,
   "id": "heavy-haiti",
   "metadata": {},
   "outputs": [],
   "source": [
    "# IPython.display.HTML('dashboards/interactive_dash.html')"
   ]
  },
  {
   "cell_type": "markdown",
   "id": "bronze-folks",
   "metadata": {},
   "source": [
    "## 01. Scenario"
   ]
  },
  {
   "cell_type": "markdown",
   "id": "chief-tulsa",
   "metadata": {},
   "source": [
    "Imagine we were planning our next vacation and wanted to head to the land down under. Sydney, as it is well known, is one of the most picturesque cities in the world, but that also makes it an expensive one. Because of this, we will be examining the variation of prices for a listing across different measures such as, median price per suburb, average amount of reviews per suburb and property type, etc."
   ]
  },
  {
   "cell_type": "markdown",
   "id": "coordinated-bridal",
   "metadata": {},
   "source": [
    "## 02. Use Cases"
   ]
  },
  {
   "cell_type": "markdown",
   "id": "unusual-literature",
   "metadata": {},
   "source": [
    "These data can be useful not only for those planning a vacation but also for\n",
    "\n",
    "1. Tourism agents\n",
    "2. Data analysts in areas such as government of real estate\n",
    "3. Restaurants wanting to cater to tourists\n",
    "4. Real estate agents\n",
    "5. Many more"
   ]
  },
  {
   "cell_type": "markdown",
   "id": "therapeutic-personal",
   "metadata": {},
   "source": [
    "## 03. The Data"
   ]
  },
  {
   "cell_type": "markdown",
   "id": "quality-rainbow",
   "metadata": {},
   "source": [
    "The data we will be using for our dashboard on this notebook comes from Airbnb and it contains information about all of the listings available in the metropolitan area of Sydney up until April 2020. In addition, most of the information about a listing displayed on Airbnb can also be found on this dataset as it was a scraped directly from the website.\n",
    "\n",
    "There are some additional variables such as\n",
    "- `min_price_per_stay` - Airbnb provides prices per night but hosts are able to set a minimum amount of nights for which you can book their place. As such, the amount available is not always indicative of the amount to be paid and thus, this variable shows `price * minimum_nights + cleaning_fee`\n",
    "- `two_weeks_price` - same formula as above but istead of minimum nights the price has been multiplied by 14\n",
    "\n",
    "Lastly, we also have a geodataframe containing the coordinates of the major suburbs in Sydney."
   ]
  },
  {
   "cell_type": "markdown",
   "id": "eight-blood",
   "metadata": {},
   "source": [
    "### The Airbnb Data"
   ]
  },
  {
   "cell_type": "code",
   "execution_count": null,
   "id": "abandoned-buyer",
   "metadata": {},
   "outputs": [],
   "source": [
    "df = pd.read_parquet(os.path.join('..', 'data', 'interactive', \"sydney_airbnb.parquet\"))\n",
    "# df = pd.read_csv(os.path.join('..', 'data', 'interactive', \"sydney_airbnb.parquet\"))\n",
    "print(df.shape)"
   ]
  },
  {
   "cell_type": "code",
   "execution_count": null,
   "id": "laden-paper",
   "metadata": {},
   "outputs": [],
   "source": [
    "# shows the first 5 rows of the dataframe\n",
    "df.head()"
   ]
  },
  {
   "cell_type": "code",
   "execution_count": null,
   "id": "center-thousand",
   "metadata": {
    "scrolled": true,
    "tags": []
   },
   "outputs": [],
   "source": [
    "# show the amount of rows, columns, missing values, and the data types of each variable\n",
    "df.info()"
   ]
  },
  {
   "cell_type": "markdown",
   "id": "cleared-roman",
   "metadata": {},
   "source": [
    "### The GeoDataFrame"
   ]
  },
  {
   "cell_type": "code",
   "execution_count": null,
   "id": "sunrise-argument",
   "metadata": {},
   "outputs": [],
   "source": [
    "subs_geo = gpd.read_file(os.path.join('..', 'data', 'interactive', \"neighbourhoods.geojson\"))"
   ]
  },
  {
   "cell_type": "code",
   "execution_count": null,
   "id": "tutorial-verification",
   "metadata": {},
   "outputs": [],
   "source": [
    "# shows the first 5 rows of the dataframe\n",
    "subs_geo.head()"
   ]
  },
  {
   "cell_type": "code",
   "execution_count": null,
   "id": "sacred-myanmar",
   "metadata": {},
   "outputs": [],
   "source": [
    "# show the amount of rows, columns, missing values, and the data types of each variable\n",
    "subs_geo.info()"
   ]
  },
  {
   "cell_type": "markdown",
   "id": "functioning-techno",
   "metadata": {},
   "source": [
    "## 04. Top-Down Dashboard Breakdown"
   ]
  },
  {
   "cell_type": "markdown",
   "id": "unlike-microwave",
   "metadata": {},
   "source": [
    "This section is all about deconstructing our dashboard. We will start with the widgets, the tools that provide us with interactivity, and work our way backwards until we get to the final output."
   ]
  },
  {
   "cell_type": "markdown",
   "id": "acute-democracy",
   "metadata": {},
   "source": [
    "### The Widgets"
   ]
  },
  {
   "cell_type": "markdown",
   "id": "graduate-theme",
   "metadata": {},
   "source": [
    "Panel contains plenty of widgets for us from a function called `interact` and another called `widgets`. Interact provides interactive capabilities to the parameters of different kinds of plots that have been created by functions. Interact essentially creates a user interface as tiny as input box and as complex as a full app.\n",
    "\n",
    "In contrast, widgets provide a finer control on the interactivity behind the scenes of a complex app. It also allows you to use changing parameters of declared functions inside the decorator, `p.depends`, which will created an interactive chart for you.\n",
    "\n",
    "Let's first create a list will all of the properties in our dataset, and then check out how widgets work."
   ]
  },
  {
   "cell_type": "code",
   "execution_count": null,
   "id": "compliant-banana",
   "metadata": {},
   "outputs": [],
   "source": [
    "property_types = list(df['property_type'].unique())\n",
    "property_types"
   ]
  },
  {
   "cell_type": "code",
   "execution_count": null,
   "id": "formal-tobacco",
   "metadata": {},
   "outputs": [],
   "source": [
    "p_type = pn.widgets.Select(value='Apartment', options=property_types, name='Property Type')\n",
    "p_type"
   ]
  },
  {
   "cell_type": "markdown",
   "id": "persistent-collection",
   "metadata": {},
   "source": [
    "Noticed what just happened, using `pn.widgets.Select` we, assigned a default `value` to a widget from which our function will have a list of `options` to choose from, and we also gave it a name.\n",
    "\n",
    "Before we try another one, let's check the reviews scores for the hosts around Sydney."
   ]
  },
  {
   "cell_type": "code",
   "execution_count": null,
   "id": "solar-piece",
   "metadata": {},
   "outputs": [],
   "source": [
    "df.review_scores_rating.unique()"
   ]
  },
  {
   "cell_type": "markdown",
   "id": "bigger-client",
   "metadata": {},
   "source": [
    "Let's create a categorical variable similar to what in marketing is consider, net promoter score. Our variable will group reviews of `>=90` into one bin, `>=70` into another, and the rest into another bucket. These buckets will be called `Excellent`, `Okay`, and `No Bueno`, respectively."
   ]
  },
  {
   "cell_type": "code",
   "execution_count": null,
   "id": "taken-parcel",
   "metadata": {},
   "outputs": [],
   "source": [
    "# we will start with a column saying no reviews\n",
    "df['nps'] = 'None'"
   ]
  },
  {
   "cell_type": "code",
   "execution_count": null,
   "id": "seven-december",
   "metadata": {},
   "outputs": [],
   "source": [
    "# then we will create a mask for those listings with at least 1 review\n",
    "revs_mask = df['number_of_reviews'] > 0"
   ]
  },
  {
   "cell_type": "code",
   "execution_count": null,
   "id": "large-gallery",
   "metadata": {},
   "outputs": [],
   "source": [
    "# we will create a function to bin our groups\n",
    "def get_nps(x):\n",
    "    if x >= 90:\n",
    "        return \"Excellent\"\n",
    "    elif x >= 70:\n",
    "        return \"Okay\"\n",
    "    else:\n",
    "        return \"No Bueno\""
   ]
  },
  {
   "cell_type": "markdown",
   "id": "funded-relief",
   "metadata": {},
   "source": [
    "Using the locator selector, we will add the new values of our function back into our new `nps` column."
   ]
  },
  {
   "cell_type": "code",
   "execution_count": null,
   "id": "conceptual-christmas",
   "metadata": {},
   "outputs": [],
   "source": [
    "df.loc[revs_mask, 'nps'] = df.loc[revs_mask, 'review_scores_rating'].apply(get_nps)\n",
    "df['nps'].head(10)"
   ]
  },
  {
   "cell_type": "code",
   "execution_count": null,
   "id": "secure-distance",
   "metadata": {},
   "outputs": [],
   "source": [
    "# let's evaluate the total count for each group\n",
    "df['nps'].value_counts()"
   ]
  },
  {
   "cell_type": "markdown",
   "id": "ecological-faith",
   "metadata": {},
   "source": [
    "Let's create a list for our new widget and remove the `None` from it as we are only interested in those with a review."
   ]
  },
  {
   "cell_type": "code",
   "execution_count": null,
   "id": "muslim-boutique",
   "metadata": {},
   "outputs": [],
   "source": [
    "nps_vals = list(df.nps.unique())\n",
    "nps_vals.remove('None')"
   ]
  },
  {
   "cell_type": "markdown",
   "id": "optical-bumper",
   "metadata": {},
   "source": [
    "Now we can put together another widget."
   ]
  },
  {
   "cell_type": "code",
   "execution_count": null,
   "id": "uniform-occurrence",
   "metadata": {},
   "outputs": [],
   "source": [
    "nps = pn.widgets.Select(value='Excellent', options=nps_vals, name='Net Promoters')\n",
    "nps"
   ]
  },
  {
   "cell_type": "markdown",
   "id": "consistent-circumstances",
   "metadata": {},
   "source": [
    "While we will only use the `pn.widgets.Select` and `pn.interact` functions for this notebook, there are other amazing widgets that you should definitely explore at [panel widgets](https://panel.holoviz.org/user_guide/Widgets.html)."
   ]
  },
  {
   "cell_type": "markdown",
   "id": "headed-filing",
   "metadata": {},
   "source": [
    "### Exercise\n",
    "\n",
    "1. Pick any categorical column from the dataset.\n",
    "2. Get the unique values of such category.\n",
    "3. Create a widget, assign it to a variable called `my_widget`, and display it."
   ]
  },
  {
   "cell_type": "code",
   "execution_count": null,
   "id": "alleged-channels",
   "metadata": {},
   "outputs": [],
   "source": []
  },
  {
   "cell_type": "code",
   "execution_count": null,
   "id": "utility-helicopter",
   "metadata": {},
   "outputs": [],
   "source": []
  },
  {
   "cell_type": "markdown",
   "id": "funded-greenhouse",
   "metadata": {},
   "source": [
    "### The Map"
   ]
  },
  {
   "cell_type": "markdown",
   "id": "unknown-surveillance",
   "metadata": {},
   "source": [
    "We will use a map to guide us into where to find the best priced locations for us to stay at. Let's examine the prices of apartment listing per suburb. We will filter for apartments, group by the neighborhood, and then take the median price of the minimum price per stay column."
   ]
  },
  {
   "cell_type": "code",
   "execution_count": null,
   "id": "equal-inflation",
   "metadata": {},
   "outputs": [],
   "source": [
    "data = df[df['property_type'] == 'Apartment'].copy()\n",
    "data.shape"
   ]
  },
  {
   "cell_type": "code",
   "execution_count": null,
   "id": "peaceful-nevada",
   "metadata": {},
   "outputs": [],
   "source": [
    "data_group = data.groupby('neighbourhood_cleansed')['min_price_per_stay'].median().reset_index()\n",
    "data_group.head()"
   ]
  },
  {
   "cell_type": "markdown",
   "id": "optimum-absorption",
   "metadata": {},
   "source": [
    "We will need to merge our dataset with the geodataframe containing the neighborhoods."
   ]
  },
  {
   "cell_type": "code",
   "execution_count": null,
   "id": "comparable-carrier",
   "metadata": {},
   "outputs": [],
   "source": [
    "data_merged = (data_group.merge(subs_geo[['neighbourhood', 'geometry']], \n",
    "                                left_on='neighbourhood_cleansed', right_on='neighbourhood')\n",
    "                         .drop('neighbourhood', axis=1)\n",
    "                         .rename(columns={'neighbourhood_cleansed': \"Suburb\"}))\n",
    "data_merged.head()"
   ]
  },
  {
   "cell_type": "code",
   "execution_count": null,
   "id": "informative-syndicate",
   "metadata": {},
   "outputs": [],
   "source": [
    "type(data_merged)"
   ]
  },
  {
   "cell_type": "markdown",
   "id": "western-lexington",
   "metadata": {},
   "source": [
    "Let's make that panda into a geopandas dataframe again."
   ]
  },
  {
   "cell_type": "code",
   "execution_count": null,
   "id": "noted-lender",
   "metadata": {},
   "outputs": [],
   "source": [
    "geo_data = gpd.GeoDataFrame(data_merged)\n",
    "type(geo_data)"
   ]
  },
  {
   "cell_type": "markdown",
   "id": "inside-camel",
   "metadata": {},
   "source": [
    "Let's now create our choropleth map."
   ]
  },
  {
   "cell_type": "code",
   "execution_count": null,
   "id": "awful-broadcast",
   "metadata": {},
   "outputs": [],
   "source": [
    "geo_fig = gv.Polygons(geo_data, vdims=['Suburb', 'min_price_per_stay']).opts(tools=['hover'], width=500, height=400, \n",
    "                                                                        color='min_price_per_stay', cmap='viridis_r',colorbar=True, \n",
    "                                                                        toolbar='below', xaxis=None, yaxis=None, color_levels=20)\n"
   ]
  },
  {
   "cell_type": "markdown",
   "id": "attempted-vision",
   "metadata": {},
   "source": [
    "Before we visualize it, let's overlay a map behind it."
   ]
  },
  {
   "cell_type": "code",
   "execution_count": null,
   "id": "embedded-jerusalem",
   "metadata": {},
   "outputs": [],
   "source": [
    "(tiles.CartoLight() * geo_fig).relabel(label=f'Median Listing Price by Suburb')"
   ]
  },
  {
   "cell_type": "markdown",
   "id": "smoking-starter",
   "metadata": {},
   "source": [
    "Fantastic! Now, the key thing to do to create interactive widgets is to package our visualizations into functions and pass our widget from before through the `pn.depends` decorator as `@pn.depends(p_type.param.value)`. We need to remember to tell panel which parameter value to access from our widget.\n",
    "\n",
    "So now, let's use the same lines from above for our function."
   ]
  },
  {
   "cell_type": "code",
   "execution_count": null,
   "id": "convinced-technology",
   "metadata": {},
   "outputs": [],
   "source": [
    "@pn.depends(p_type.param.value)\n",
    "def get_map(p_type, **kwargs):\n",
    "    \n",
    "    data = df[df['property_type'] == p_type].copy()\n",
    "    data_group = data.groupby('neighbourhood_cleansed')['min_price_per_stay'].median().reset_index()\n",
    "    data_merged = (data_group.merge(subs_geo[['neighbourhood', 'geometry']], left_on='neighbourhood_cleansed', right_on='neighbourhood')\n",
    "                             .drop('neighbourhood', axis=1)\n",
    "                             .rename(columns={'neighbourhood_cleansed': \"Suburb\"}))\n",
    "    \n",
    "    geo_data = gpd.GeoDataFrame(data_merged)\n",
    "    \n",
    "    fig = gv.Polygons(geo_data, vdims=['Suburb', 'min_price_per_stay']).opts(tools=['hover'], width=500, height=400, \n",
    "                                                                        color='min_price_per_stay', cmap='viridis_r',colorbar=True, \n",
    "                                                                        toolbar='above', xaxis=None, yaxis=None, color_levels=20)\n",
    "    \n",
    "    \n",
    "    return (tiles.CartoLight() * fig).relabel(label=f'Median Listing Price per {p_type}')"
   ]
  },
  {
   "cell_type": "code",
   "execution_count": null,
   "id": "soviet-interference",
   "metadata": {},
   "outputs": [],
   "source": [
    "# let's test our function and widget in a row object\n",
    "pn.Row(p_type, get_map)"
   ]
  },
  {
   "cell_type": "markdown",
   "id": "adult-machine",
   "metadata": {},
   "source": [
    "Great. We can also transfer the same idea to `pn.interact`. Let's create another grouped dataframe with more descriptive statistics."
   ]
  },
  {
   "cell_type": "code",
   "execution_count": null,
   "id": "billion-bangkok",
   "metadata": {},
   "outputs": [],
   "source": [
    "nb_stay_stats = df.groupby('neighbourhood_cleansed')['min_price_per_stay'].agg(['min', 'mean', 'median', 'max', 'count']).reset_index()\n",
    "nb_stay_stats.head()"
   ]
  },
  {
   "cell_type": "code",
   "execution_count": null,
   "id": "robust-government",
   "metadata": {},
   "outputs": [],
   "source": [
    "# we need to combine it again with our geodataframe containing the polygos\n",
    "geo_nb_stats = gpd.GeoDataFrame(nb_stay_stats.merge(subs_geo[['neighbourhood', 'geometry']], \n",
    "                                   left_on='neighbourhood_cleansed', right_on='neighbourhood')\n",
    "                             .drop('neighbourhood', axis=1)\n",
    "                             .rename(columns={'neighbourhood_cleansed': \"Suburb\"}))\n",
    "\n",
    "geo_nb_stats.head()"
   ]
  },
  {
   "cell_type": "markdown",
   "id": "spectacular-analyst",
   "metadata": {},
   "source": [
    "We will create a second function and pass it to `pm.interact` alongside the parameters we want it to interact with, the descriptive columns."
   ]
  },
  {
   "cell_type": "code",
   "execution_count": null,
   "id": "corporate-wrapping",
   "metadata": {},
   "outputs": [],
   "source": [
    "def get_map2(col='mean', **kwargs):\n",
    "    return (tiles.CartoLight() * (gv.Polygons(geo_nb_stats.copy(), vdims=['Suburb', col]).opts(tools=['hover'], width=550, height=600, \n",
    "                                                                        color=col, cmap='viridis_r',colorbar=True,\n",
    "                                                                        toolbar='above', xaxis=None, yaxis=None, color_levels=38)))"
   ]
  },
  {
   "cell_type": "code",
   "execution_count": null,
   "id": "forced-bowling",
   "metadata": {},
   "outputs": [],
   "source": [
    "pn.interact(get_map2, col=['min', 'mean', 'median', 'max', 'count'])"
   ]
  },
  {
   "cell_type": "markdown",
   "id": "lovely-croatia",
   "metadata": {},
   "source": [
    "### Exercise"
   ]
  },
  {
   "cell_type": "markdown",
   "id": "suburban-michigan",
   "metadata": {},
   "source": [
    "Create a choropleth map of the median two week stay with an interactive widget containing the cancellation policy. For this you will need to\n",
    "1. Create a list with the unique values of the cancellation policy column\n",
    "2. Create a groupeby object by the cancellation policy and the two week stay price\n",
    "3. Combine the group data with the geodataframe\n",
    "4. Create a function with your map and cancellation policy\n",
    "5. Display widget and map as a row or column"
   ]
  },
  {
   "cell_type": "code",
   "execution_count": null,
   "id": "revised-french",
   "metadata": {},
   "outputs": [],
   "source": []
  },
  {
   "cell_type": "code",
   "execution_count": null,
   "id": "bizarre-fleece",
   "metadata": {},
   "outputs": [],
   "source": []
  },
  {
   "cell_type": "code",
   "execution_count": null,
   "id": "modern-preparation",
   "metadata": {},
   "outputs": [],
   "source": []
  },
  {
   "cell_type": "markdown",
   "id": "empty-queensland",
   "metadata": {},
   "source": [
    "### The Table"
   ]
  },
  {
   "cell_type": "markdown",
   "id": "quiet-plenty",
   "metadata": {},
   "source": [
    "Tables are exactly that, a view at the data but with an interactive component to it. We will create one for the reviews in our dataset."
   ]
  },
  {
   "cell_type": "code",
   "execution_count": null,
   "id": "subsequent-conjunction",
   "metadata": {},
   "outputs": [],
   "source": [
    "# let's change the names of these columns first\n",
    "reviews = ['review_scores_checkin', 'review_scores_cleanliness', 'review_scores_accuracy', \n",
    "           'review_scores_location', 'review_scores_communication', 'review_scores_value']\n",
    "new_names = ['Checkin', 'Cleanliness', 'Accuracy', 'Location', 'Communication', 'Value']\n",
    "\n",
    "names_dict = {old:new for old, new in zip(reviews, new_names)}\n",
    "names_dict"
   ]
  },
  {
   "cell_type": "markdown",
   "id": "mineral-brighton",
   "metadata": {},
   "source": [
    "Let's now create two masks, one for the Apartment and another for listings with at least 1 review."
   ]
  },
  {
   "cell_type": "code",
   "execution_count": null,
   "id": "wicked-change",
   "metadata": {},
   "outputs": [],
   "source": [
    "p_mask = df['property_type'] == 'Apartment'\n",
    "revs_mask = df['number_of_reviews'] > 0"
   ]
  },
  {
   "cell_type": "code",
   "execution_count": null,
   "id": "promising-opera",
   "metadata": {},
   "outputs": [],
   "source": [
    "# filter our undersired listings\n",
    "data = df[p_mask & revs_mask].copy()\n",
    "# rename the review columns\n",
    "data.rename(names_dict, axis=1, inplace=True)"
   ]
  },
  {
   "cell_type": "markdown",
   "id": "continuous-latitude",
   "metadata": {},
   "source": [
    "We will examine the average review score for 6 criteria and add the results to a holoviews table."
   ]
  },
  {
   "cell_type": "code",
   "execution_count": null,
   "id": "genetic-bhutan",
   "metadata": {},
   "outputs": [],
   "source": [
    "data_group = data[new_names].mean().to_frame(name='vals').reset_index()\n",
    "data_group.columns = ['Reviews', 'Average Score']"
   ]
  },
  {
   "cell_type": "code",
   "execution_count": null,
   "id": "neural-timer",
   "metadata": {},
   "outputs": [],
   "source": [
    "# the table can take other data sources as well\n",
    "table = hv.Table(data_group).opts(width=250, height=180)\n",
    "table"
   ]
  },
  {
   "cell_type": "markdown",
   "id": "enabling-performer",
   "metadata": {},
   "source": [
    "Now let's wrap our process again into a function for which the only parameter that can change is the property type."
   ]
  },
  {
   "cell_type": "code",
   "execution_count": null,
   "id": "standing-canyon",
   "metadata": {},
   "outputs": [],
   "source": [
    "@pn.depends(p_type.param.value)\n",
    "def get_rev_table(p_type, **kwargs):\n",
    "    \n",
    "    p_mask = df['property_type'] == p_type\n",
    "    revs_mask = df['number_of_reviews'] > 0\n",
    "    \n",
    "    data = df[p_mask & revs_mask].copy()\n",
    "    \n",
    "    data.rename(names_dict, axis=1, inplace=True)\n",
    "    \n",
    "    data_group = data[new_names].mean().to_frame(name='vals').reset_index()\n",
    "    data_group.columns = ['Reviews', 'Average Score']\n",
    "    \n",
    "    table = hv.Table(data_group).opts(width=250, height=180, bgcolor='red')\n",
    "    \n",
    "    return table"
   ]
  },
  {
   "cell_type": "markdown",
   "id": "numerical-sculpture",
   "metadata": {},
   "source": [
    "We can also examine the functions individually with one value."
   ]
  },
  {
   "cell_type": "code",
   "execution_count": null,
   "id": "western-improvement",
   "metadata": {},
   "outputs": [],
   "source": [
    "get_rev_table(\"Apartment\")"
   ]
  },
  {
   "cell_type": "code",
   "execution_count": null,
   "id": "durable-supply",
   "metadata": {},
   "outputs": [],
   "source": [
    "# remember if you need help use\n",
    "# hv.help(opts.Table)"
   ]
  },
  {
   "cell_type": "code",
   "execution_count": null,
   "id": "pregnant-label",
   "metadata": {},
   "outputs": [],
   "source": [
    "pn.Column(p_type, get_rev_table)"
   ]
  },
  {
   "cell_type": "markdown",
   "id": "japanese-coalition",
   "metadata": {},
   "source": [
    "### The Whiskers"
   ]
  },
  {
   "cell_type": "markdown",
   "id": "boolean-sacrifice",
   "metadata": {},
   "source": [
    "Box plots are incredibly useful for telling us the key descriptive statistics of a variable. Mainly, they provide us with the min, interquartile, median, max, and a view of the outliers, if any.\n",
    "\n",
    "For our purposes, let's assume that we have a budget of 2000 AUD for a 2-week vavation, and let's also assume that we will only stay at places with excellent ratings."
   ]
  },
  {
   "cell_type": "code",
   "execution_count": null,
   "id": "russian-destination",
   "metadata": {},
   "outputs": [],
   "source": [
    "nps_mask = df['nps'] == 'Excellent'\n",
    "budget = df['two_weeks_price'] < 2000"
   ]
  },
  {
   "cell_type": "code",
   "execution_count": null,
   "id": "stone-archive",
   "metadata": {},
   "outputs": [],
   "source": [
    "# create a copy of the filtered dataset\n",
    "data = df.loc[nps_mask & budget, ['property_type', 'two_weeks_price']].copy()"
   ]
  },
  {
   "cell_type": "code",
   "execution_count": null,
   "id": "careful-newport",
   "metadata": {},
   "outputs": [],
   "source": [
    "# since our label is a bit long we will add it to a variable\n",
    "label = \"(2-Week Stay) Price Range per Property Type with  Reviews\""
   ]
  },
  {
   "cell_type": "markdown",
   "id": "warming-helping",
   "metadata": {},
   "source": [
    "Let's now create our box plot using holoview function `hv.BoxWhisker`, which contains most of the parameters we are familiar with by now."
   ]
  },
  {
   "cell_type": "code",
   "execution_count": null,
   "id": "charming-genetics",
   "metadata": {},
   "outputs": [],
   "source": [
    "bw = hv.BoxWhisker(data, 'property_type', 'two_weeks_price', label=label)\n",
    "bw"
   ]
  },
  {
   "cell_type": "markdown",
   "id": "fifteen-petite",
   "metadata": {},
   "source": [
    "As we can see, our chart needs some options to be more useful, so let's give some of the ones we have already used."
   ]
  },
  {
   "cell_type": "code",
   "execution_count": null,
   "id": "periodic-reduction",
   "metadata": {},
   "outputs": [],
   "source": [
    "bw.opts(box_fill_color='#D5E051', box_line_color='#5F6062', width=600, height=250, box_line_width=1,\n",
    "        whisker_color='#FFFFFF', xrotation=25, bgcolor='#5F6062',labelled=[], outlier_color='#FFFFFF')"
   ]
  },
  {
   "cell_type": "markdown",
   "id": "innocent-world",
   "metadata": {},
   "source": [
    "Let's now package eveything in a function that will change given the net promoter score."
   ]
  },
  {
   "cell_type": "code",
   "execution_count": null,
   "id": "pressing-ebony",
   "metadata": {},
   "outputs": [],
   "source": [
    "@pn.depends(nps.param.value)\n",
    "def cat_whisker(nps, **kwargs):\n",
    "    \n",
    "    nps_mask = df['nps'] == nps\n",
    "    budget = df['two_weeks_price'] < 2000\n",
    "    \n",
    "    data = df.loc[nps_mask & budget, ['property_type', 'two_weeks_price']].copy()\n",
    "    \n",
    "    label = f\"(2-Week Stay) Price Range per Property Type with {nps} Reviews\"\n",
    "    \n",
    "    boxw = hv.BoxWhisker(data, 'property_type', 'two_weeks_price', label=label)\n",
    "    \n",
    "    return boxw.opts(box_fill_color='#D5E051', box_line_color='#5F6062', width=600, height=250, box_line_width=1,\n",
    "                     whisker_color='#FFFFFF', xrotation=25, bgcolor='#5F6062', labelled=[], outlier_color='#FFFFFF',)"
   ]
  },
  {
   "cell_type": "code",
   "execution_count": null,
   "id": "middle-absorption",
   "metadata": {},
   "outputs": [],
   "source": [
    "pn.Column(nps, cat_whisker)"
   ]
  },
  {
   "cell_type": "markdown",
   "id": "dramatic-hygiene",
   "metadata": {},
   "source": [
    "### Exercise"
   ]
  },
  {
   "cell_type": "markdown",
   "id": "neural-showcase",
   "metadata": {},
   "source": [
    "Create a box and whisker plot showing the distribution of the cleaning fee column. You can use the property type as your x axis again."
   ]
  },
  {
   "cell_type": "code",
   "execution_count": null,
   "id": "thrown-celebration",
   "metadata": {},
   "outputs": [],
   "source": []
  },
  {
   "cell_type": "code",
   "execution_count": null,
   "id": "referenced-methodology",
   "metadata": {},
   "outputs": [],
   "source": []
  },
  {
   "cell_type": "code",
   "execution_count": null,
   "id": "pleasant-conversion",
   "metadata": {},
   "outputs": [],
   "source": []
  },
  {
   "cell_type": "markdown",
   "id": "artistic-chocolate",
   "metadata": {},
   "source": [
    "### Plots/Bars"
   ]
  },
  {
   "cell_type": "markdown",
   "id": "tropical-budget",
   "metadata": {},
   "source": [
    "What we want to know.\n",
    "\n",
    "> What's the different between the average number of reviews recieved per suburb and by super hosts and regular hosts?\n",
    "\n",
    "\n",
    "By now you must recognized the pattern we are following. We first declared the widgets we wanted our visualizations to interact with, we then filter a dataframe, group by some other measure, and then add our widgets to the mix with our chart inside a function. Let' do it again."
   ]
  },
  {
   "cell_type": "code",
   "execution_count": null,
   "id": "logical-howard",
   "metadata": {},
   "outputs": [],
   "source": [
    "# at least 1 review\n",
    "revs_mask = df['number_of_reviews'] > 0"
   ]
  },
  {
   "cell_type": "code",
   "execution_count": null,
   "id": "covered-integral",
   "metadata": {},
   "outputs": [],
   "source": [
    "# filter\n",
    "data = df[nps_mask & p_mask & revs_mask].copy()\n",
    "# group the data\n",
    "group = data.groupby(['neighbourhood_cleansed', 'host_is_superhost'])['number_of_reviews'].mean().reset_index()\n",
    "# show the result\n",
    "group.head()"
   ]
  },
  {
   "cell_type": "markdown",
   "id": "revolutionary-cursor",
   "metadata": {},
   "source": [
    "We now have a different interest. We want to know if super hosts ge more reviews, on average, than regular hosts. Let's filter 2 dataframes for this."
   ]
  },
  {
   "cell_type": "code",
   "execution_count": null,
   "id": "shaped-scott",
   "metadata": {},
   "outputs": [],
   "source": [
    "superh = group[group['host_is_superhost'] == 't']\n",
    "regularh = group[group['host_is_superhost'] == 'f']"
   ]
  },
  {
   "cell_type": "markdown",
   "id": "rising-routine",
   "metadata": {},
   "source": [
    "We then create our first scatter and load it with options. Remember, the second scatter does not need as many functions as we will overlay it on top of the sorted first one."
   ]
  },
  {
   "cell_type": "code",
   "execution_count": null,
   "id": "conventional-scientist",
   "metadata": {},
   "outputs": [],
   "source": [
    "dots1 = (hv.Scatter(superh, 'neighbourhood_cleansed', 'number_of_reviews', label='Super Hosts').sort('number_of_reviews')\n",
    "         .opts(color='#D5E051', width=500, show_grid=True, height=400, invert_axes=True, size=7, tools=['hover'],\n",
    "               legend_position='bottom_right', toolbar='right', labelled=[], title=\"Average # of Reviews per Suburb\"))\n",
    "dots1"
   ]
  },
  {
   "cell_type": "code",
   "execution_count": null,
   "id": "apart-medicare",
   "metadata": {},
   "outputs": [],
   "source": [
    "dots2 = hv.Scatter(regularh, 'neighbourhood_cleansed', 'number_of_reviews', label='Regular Hosts').opts(size=7, color='#D8DEE9')\n",
    "dots2"
   ]
  },
  {
   "cell_type": "markdown",
   "id": "0a801dbd-52f6-4eb9-a7a3-b863593fb1fb",
   "metadata": {},
   "source": [
    "We can overlay the two with the `*` sign."
   ]
  },
  {
   "cell_type": "code",
   "execution_count": null,
   "id": "blessed-mobility",
   "metadata": {},
   "outputs": [],
   "source": [
    "(dots1 * dots2)"
   ]
  },
  {
   "cell_type": "markdown",
   "id": "bibliographic-drive",
   "metadata": {},
   "source": [
    "Let's wrap it all up in a function now but this time, we will use both parameters, the nps and the property type. Note that you can add as many as you'd like and that can increase the complexity of your visualization and app."
   ]
  },
  {
   "cell_type": "code",
   "execution_count": null,
   "id": "proud-dragon",
   "metadata": {},
   "outputs": [],
   "source": [
    "@pn.depends(p_type.param.value, nps.param.value)\n",
    "def my_dots(p_type, nps, **kwargs):\n",
    "    \n",
    "    nps_mask = df['nps'] == nps\n",
    "    p_mask = df['property_type'] == p_type\n",
    "    revs_mask = df['number_of_reviews'] > 0\n",
    "    \n",
    "    data = df[nps_mask & p_mask & revs_mask].copy()\n",
    "    group = data.groupby(['neighbourhood_cleansed', 'host_is_superhost'])['number_of_reviews'].mean().reset_index()\n",
    "    \n",
    "    superh = group[group['host_is_superhost'] == 't']\n",
    "    regularh = group[group['host_is_superhost'] == 'f']\n",
    "    \n",
    "    dots1 = hv.Scatter(superh, 'neighbourhood_cleansed', 'number_of_reviews', label='Super Hosts').sort('number_of_reviews').opts(color='#D5E051', width=500, show_grid=True,\n",
    "                                                                                height=400, invert_axes=True, size=7, tools=['hover'],\n",
    "                                                                                legend_position='bottom_right', toolbar='right',\n",
    "                                                                                labelled=[], title=\"Average # of Reviews per Suburb\")\n",
    "    dots2 = hv.Scatter(regularh, 'neighbourhood_cleansed', 'number_of_reviews', label='Regular Hosts').opts(size=7, color='#FFFFFF')\n",
    "    \n",
    "    return (dots1 * dots2)"
   ]
  },
  {
   "cell_type": "code",
   "execution_count": null,
   "id": "documentary-given",
   "metadata": {},
   "outputs": [],
   "source": [
    "pn.Column(p_type, nps, my_dots)"
   ]
  },
  {
   "cell_type": "markdown",
   "id": "dimensional-silence",
   "metadata": {},
   "source": [
    "### The BANs"
   ]
  },
  {
   "cell_type": "markdown",
   "id": "exact-assignment",
   "metadata": {},
   "source": [
    "Let's go immediately to the function of 1 BAN with a title."
   ]
  },
  {
   "cell_type": "code",
   "execution_count": null,
   "id": "fleet-nerve",
   "metadata": {},
   "outputs": [],
   "source": [
    "@pn.depends(p_type.param.value)\n",
    "def ban_small(p_type):\n",
    "    \n",
    "    p_mask = df['property_type'] == p_type\n",
    "    data = df[p_mask].copy()\n",
    "    \n",
    "    main_title = pn.pane.Markdown(f\"# {p_type}\", style={'color':'#FFFFFF'})\n",
    "    \n",
    "    return pn.Column(main_title, pn.indicators.Number(name='Listings', value=p_mask.sum(), default_color='#FFFFFF', align='start', \n",
    "                  font_size='13pt', title_size='13pt', format='{value:,.0f}'))"
   ]
  },
  {
   "cell_type": "code",
   "execution_count": null,
   "id": "cutting-clark",
   "metadata": {},
   "outputs": [],
   "source": [
    "pn.Row(p_type, ban_small)"
   ]
  },
  {
   "cell_type": "markdown",
   "id": "fourth-austria",
   "metadata": {},
   "source": [
    "Let's make the function above a bit more complex."
   ]
  },
  {
   "cell_type": "code",
   "execution_count": null,
   "id": "chinese-cleveland",
   "metadata": {},
   "outputs": [],
   "source": [
    "@pn.depends(p_type.param.value)\n",
    "def bans(p_type):\n",
    "    \n",
    "    g_opts = dict(default_color='#FFFFFF', align='start', # the global options that fit our 3 BANS\n",
    "                  font_size='13pt', title_size='13pt')\n",
    "    \n",
    "    p_mask = df['property_type'] == p_type\n",
    "    \n",
    "    data = df[p_mask].copy()\n",
    "    \n",
    "    # the BANs will need a sum a count and a mean \n",
    "    listings = p_mask.sum() \n",
    "    super_host = data.groupby('host_is_superhost')['host_is_superhost'].count().loc['t']\n",
    "    avg_price = data['price'].mean()\n",
    "    \n",
    "    # the title will change depending on the property type\n",
    "    main_title = pn.pane.Markdown(f\"# {p_type}\", style={'color':'#FFFFFF'})\n",
    "    \n",
    "    ban1 = pn.indicators.Number(name=\"Listings\", value=listings, **g_opts, format='{value:,.0f}')\n",
    "    ban2 = pn.indicators.Number(name=\"Super Hosts\", value=super_host, **g_opts, format='{value:,.0f}')\n",
    "    ban3 = pn.indicators.Number(name=\"Avg Price/Night\", value=avg_price, **g_opts, format='${value:,.0f}')\n",
    "    \n",
    "    return pn.Column(main_title, pn.Row(ban1, ban2, ban3, align='start'), align='start', height=80, width=150)"
   ]
  },
  {
   "cell_type": "markdown",
   "id": "confirmed-boring",
   "metadata": {},
   "source": [
    "### Exercise"
   ]
  },
  {
   "cell_type": "markdown",
   "id": "neither-hayes",
   "metadata": {},
   "source": [
    "Create a BAN function for the mean price per bed type and have it interact with our nps score\n",
    "\n",
    "1. Your function will take the nps widget\n",
    "2. filter for an nps\n",
    "3. that dataframe will be grouped by the bed_type column and\n",
    "4. you will take the mean of the price column\n",
    "5. display the ban and the widget in a column"
   ]
  },
  {
   "cell_type": "code",
   "execution_count": null,
   "id": "dangerous-colombia",
   "metadata": {},
   "outputs": [],
   "source": []
  },
  {
   "cell_type": "code",
   "execution_count": null,
   "id": "hazardous-visitor",
   "metadata": {},
   "outputs": [],
   "source": []
  },
  {
   "cell_type": "markdown",
   "id": "fancy-officer",
   "metadata": {},
   "source": [
    "### The Title"
   ]
  },
  {
   "cell_type": "code",
   "execution_count": null,
   "id": "disciplinary-james",
   "metadata": {},
   "outputs": [],
   "source": [
    "text = pn.pane.Markdown(f\"# Airbnb Listings Analysis in Sydney\", style={\"color\": \"#FFFFFF\"}, width=500, height=50,\n",
    "                        sizing_mode=\"stretch_width\", margin=(0,0,0,5))\n",
    "text"
   ]
  },
  {
   "cell_type": "code",
   "execution_count": null,
   "id": "sunrise-tourism",
   "metadata": {},
   "outputs": [],
   "source": [
    "img1 = pn.pane.PNG(\"https://i.pinimg.com/originals/a3/cd/30/a3cd30c0ba0e7f827dfe22e7a7011cd8.gif\", height=50, sizing_mode=\"fixed\", align=\"center\")\n",
    "img1"
   ]
  },
  {
   "cell_type": "code",
   "execution_count": null,
   "id": "ordinary-missouri",
   "metadata": {},
   "outputs": [],
   "source": [
    "img2 = pn.pane.PNG(\"https://e7.pngegg.com/pngimages/388/581/png-clipart-sydney-opera-house-city-of-sydney-cartoon-illustration-sydney-opera-house-creative-cartoon-cartoon-character-angle.png\", height=50, sizing_mode=\"fixed\", align=\"center\")\n",
    "img2"
   ]
  },
  {
   "cell_type": "code",
   "execution_count": null,
   "id": "wireless-consideration",
   "metadata": {},
   "outputs": [],
   "source": [
    "title = pn.Row(text, pn.Spacer(), img1, img2, background=\"#5F6062\", sizing_mode='fixed', height=250, width=1050)\n",
    "title"
   ]
  },
  {
   "cell_type": "markdown",
   "id": "beautiful-safety",
   "metadata": {},
   "source": [
    "### The Theme"
   ]
  },
  {
   "cell_type": "markdown",
   "id": "mounted-yemen",
   "metadata": {},
   "source": [
    "We will use a slightly different theme from the static dashboard. Here is the [inspiration](https://bigbookofdashboards.com/images/Figure13.png) for this one."
   ]
  },
  {
   "cell_type": "code",
   "execution_count": null,
   "id": "careful-settlement",
   "metadata": {},
   "outputs": [],
   "source": [
    "from bokeh.themes.theme import Theme\n",
    "\n",
    "theme = Theme(\n",
    "    json={\n",
    "    'attrs' : {\n",
    "        'Figure' : {\n",
    "            'background_fill_color': '#5F6062',\n",
    "            'border_fill_color': '#5F6062',\n",
    "            'outline_line_color': '#5F6062',\n",
    "        },\n",
    "        'Grid': {\n",
    "            'grid_line_dash': [6, 4],\n",
    "            'grid_line_alpha': .3,\n",
    "        },\n",
    "\n",
    "        'Axis': {\n",
    "            'major_label_text_color': '#D5E051',\n",
    "            'axis_label_text_color': '#D5E051',\n",
    "            'major_tick_line_color': '#D5E051',\n",
    "            'minor_tick_line_color': '#D5E051',\n",
    "            'axis_line_color': \"#D5E051\"\n",
    "        },\n",
    "        'Title': {\n",
    "            'text_color': '#FFFFFF'\n",
    "        }\n",
    "    }\n",
    "})\n",
    "\n",
    "hv.renderer('bokeh').theme = theme"
   ]
  },
  {
   "cell_type": "markdown",
   "id": "cloudy-spread",
   "metadata": {},
   "source": [
    "## 05. Putting it all Together"
   ]
  },
  {
   "cell_type": "markdown",
   "id": "ongoing-rates",
   "metadata": {},
   "source": [
    "The most important piece of this part is the sizing of your dashboard or app. Something that works for me is to either grab a pen and paper and draw what I envision as a dashboard before I create, dimensions included of course. Or, I come back to every elemnt while drawing boxed in a pieve of paper and assiging the width and the height to each line."
   ]
  },
  {
   "cell_type": "code",
   "execution_count": null,
   "id": "continued-wrestling",
   "metadata": {},
   "outputs": [],
   "source": [
    "c1  = pn.Column(bans, pn.Spacer(height=20), get_rev_table, width=250, height=290)"
   ]
  },
  {
   "cell_type": "code",
   "execution_count": null,
   "id": "turkish-capability",
   "metadata": {},
   "outputs": [],
   "source": [
    "c2 = pn.Column(pn.Row(p_type, nps, align='center'), cat_whisker, height=290, align='center')"
   ]
  },
  {
   "cell_type": "code",
   "execution_count": null,
   "id": "athletic-skirt",
   "metadata": {},
   "outputs": [],
   "source": [
    "r1 = pn.Row(c1, pn.Spacer(width=100), c2, sizing_mode='fixed', align='center', width=1000, height=350)"
   ]
  },
  {
   "cell_type": "code",
   "execution_count": null,
   "id": "veterinary-investigation",
   "metadata": {},
   "outputs": [],
   "source": [
    "r2 = pn.Row(my_dots, get_map, align='center', sizing_mode='fixed', width=1100, height=420)"
   ]
  },
  {
   "cell_type": "code",
   "execution_count": null,
   "id": "covered-switzerland",
   "metadata": {},
   "outputs": [],
   "source": [
    "dashboard = pn.Column(title, r1, r2, background='#5F6062', sizing_mode='fixed', \n",
    "          align='center', height=800, width=1050)"
   ]
  },
  {
   "cell_type": "code",
   "execution_count": null,
   "id": "inclusive-platinum",
   "metadata": {},
   "outputs": [],
   "source": [
    "dashboard.show(threaded=True)"
   ]
  },
  {
   "cell_type": "code",
   "execution_count": null,
   "id": "aware-ghana",
   "metadata": {},
   "outputs": [],
   "source": [
    "# dashboard.save('dashboards/interactive_dash.html')"
   ]
  },
  {
   "cell_type": "markdown",
   "id": "bulgarian-medium",
   "metadata": {},
   "source": [
    "### Exercise"
   ]
  },
  {
   "cell_type": "markdown",
   "id": "adjustable-ordinance",
   "metadata": {},
   "source": [
    "Your task is to take any of the charts \n",
    "\n",
    "1. Create a Tabs element using `pn.Tabs`\n",
    "2. Add the dashboard we created together to one tab\n",
    "3. Add one of the elements you created, and a title to the other tab\n",
    "4. Add an image of Python to the last tab"
   ]
  },
  {
   "cell_type": "code",
   "execution_count": null,
   "id": "fifth-dancing",
   "metadata": {},
   "outputs": [],
   "source": []
  },
  {
   "cell_type": "code",
   "execution_count": null,
   "id": "latest-eating",
   "metadata": {},
   "outputs": [],
   "source": []
  },
  {
   "cell_type": "code",
   "execution_count": null,
   "id": "dangerous-webster",
   "metadata": {},
   "outputs": [],
   "source": []
  },
  {
   "cell_type": "markdown",
   "id": "hazardous-people",
   "metadata": {},
   "source": [
    "## 06. Summary"
   ]
  },
  {
   "cell_type": "markdown",
   "id": "advanced-operator",
   "metadata": {},
   "source": [
    "1. Widgets can be created for categories or discrete numbers and floats, here we have used mainly categories\n",
    "2. Start building your visualisations step by step and once you have an MVP, focus onn wrapping the operations in functions\n",
    "1. Using the tools chosen for the tutorial, interactive charts require functions that are tied to widgets\n",
    "2. These functions get computed every time a value changes and the visual display gets updated\n",
    "3. The larger the dataset the longer a computation might take"
   ]
  }
 ],
 "metadata": {
  "kernelspec": {
   "display_name": "Python 3 (ipykernel)",
   "language": "python",
   "name": "python3"
  },
  "language_info": {
   "codemirror_mode": {
    "name": "ipython",
    "version": 3
   },
   "file_extension": ".py",
   "mimetype": "text/x-python",
   "name": "python",
   "nbconvert_exporter": "python",
   "pygments_lexer": "ipython3",
   "version": "3.9.13"
  }
 },
 "nbformat": 4,
 "nbformat_minor": 5
}
