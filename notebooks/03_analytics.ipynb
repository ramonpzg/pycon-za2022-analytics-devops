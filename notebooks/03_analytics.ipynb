{
 "cells": [
  {
   "cell_type": "markdown",
   "id": "naked-easter",
   "metadata": {},
   "source": [
    "# 03 Analytics"
   ]
  },
  {
   "cell_type": "markdown",
   "id": "saved-preliminary",
   "metadata": {},
   "source": [
    "> \"Above all else show the data.\" ~ Edward Tufte"
   ]
  },
  {
   "cell_type": "markdown",
   "id": "wireless-chemistry",
   "metadata": {},
   "source": [
    "![img](https://images.pexels.com/photos/1619854/pexels-photo-1619854.jpeg?auto=compress&cs=tinysrgb&w=1260&h=750&dpr=2)"
   ]
  },
  {
   "cell_type": "markdown",
   "id": "pressing-ivory",
   "metadata": {},
   "source": [
    "## Table of Contents"
   ]
  },
  {
   "cell_type": "markdown",
   "id": "turned-developer",
   "metadata": {},
   "source": [
    "1. [Overview](#1.-Overview)\n",
    "2. [Learning Outcomes](#2.-Learning-Outcomes)\n",
    "3. [Data](#3.-Data)\n",
    "4. [Tools](#4.-Tools)\n",
    "5. [Dashboard Breakdown](#5.-Dashboard-Breakdown)\n",
    "    - [5.1 The Widgets](#5.1-The-Widgets)\n",
    "    - [5.2 The Map](#5.2-The-Map)\n",
    "    - [5.3 The Table](#5.3-The-Table)\n",
    "    - [5.4 The Whiskers](#5.4-The-Whiskers)\n",
    "    - [5.5 Dots as Bars](#5.5-Dots-as-Bars)\n",
    "    - [5.6 The BANs](#5.6-The-BANs)\n",
    "    - [5.7 The Title](#5.7-The-Title)\n",
    "6. [Putting it all Together](#6.-Putting-it-all-Together)\n",
    "    - [6.1 The Theme](#6.1-The-Theme)\n",
    "    - [6.2 Save it](#6.2-Save-it)\n",
    "7. [Summary](7.-Summary)"
   ]
  },
  {
   "cell_type": "markdown",
   "id": "31492661-7195-484d-a460-777a3cfdea88",
   "metadata": {},
   "source": [
    "## 1. Overview"
   ]
  },
  {
   "cell_type": "markdown",
   "id": "752ce671-622f-4c76-8817-270c9738f7ed",
   "metadata": {},
   "source": [
    "Imagine we were planning our next vacation and wanted to head to the land down under. Sydney, as it is well known, is one of the most picturesque and fun cities in the world, but these facts also make it an expensive one. Because of this, we will be examining the variation of prices for different groups of listings across different measures including, the median price per suburb, the average amount of reviews per suburb and property type, etc.\n",
    "\n",
    "A good presentation of these data can be useful not only for those planning a vacation but also for\n",
    "\n",
    "1. Tourism agents,\n",
    "2. Data analysts in areas such as government of real estate,\n",
    "3. Restaurants wanting to cater to tourists in specific geographical areas,\n",
    "4. Real estate agents, and\n",
    "5. Many more.\n",
    "\n",
    "Because this is not the only vacation we will plan now or in the future, and probably not the only time we will use Airbnb's data, it would be useful to create a pipeline that, all variables being equal, would always take in new data and produce the same results for us. **Let's do just that!** 😎\n",
    "\n",
    "There is an HTML copy of the dashboard we will create available in a folder called **dashboards**, and the following command will display it in your notebook.\n",
    "\n",
    "Note:\n",
    "1. Since the more files we have open in notebook, the heavier it becomes, you might want to clear the output after you have a look at is.\n",
    "2. The interactive widgets won't work as this is an HTML file rather than a running instance of the dashboard."
   ]
  },
  {
   "cell_type": "code",
   "execution_count": null,
   "id": "heavy-haiti",
   "metadata": {},
   "outputs": [],
   "source": [
    "# import IPython\n",
    "# IPython.display.HTML('dashboards/interactive_dash.html')"
   ]
  },
  {
   "cell_type": "markdown",
   "id": "9b64eb9c-a61a-4357-8508-13d010f76441",
   "metadata": {},
   "source": [
    "## 2. Learning Outcomes"
   ]
  },
  {
   "cell_type": "markdown",
   "id": "c7cebf26-9ea8-4691-b8fe-630d379026f8",
   "metadata": {},
   "source": [
    "Before we get started, let's go over the learning outcomes for this section of the workshop.\n",
    "\n",
    "By the end of this lesson you will be able to,\n",
    "1. Create functions that generate static and interactive visualisations. \n",
    "2. Understand how to combine datasets with and without geospatial data for visualisation purposes.\n",
    "3. Create dashboards to showcase key metrics.\n",
    "4. Plan a vacation in data driven way. 😉"
   ]
  },
  {
   "cell_type": "markdown",
   "id": "579ea3b4-c9d8-46ea-ae86-f00d4f854904",
   "metadata": {},
   "source": [
    "## 3. Data"
   ]
  },
  {
   "cell_type": "markdown",
   "id": "aab34249-2637-49f2-9b87-48faa0e3131c",
   "metadata": {},
   "source": [
    "The data we will be using for our analysis on this notebook comes from Airbnb and it contains information about all of the listings available in the metropolitan area of Sydney up until April 2020. The data has been scraped directly from the Airbnb by a tool called [Inside Airbnb](http://insideairbnb.com/) so most of the information about a listing you'll on the app/website, you will also find it on this dataset.\n",
    "\n",
    "Here are some additional variables that we created during the cleaning process.\n",
    "- `min_price_per_stay` - Airbnb provides prices per night but hosts are able to set a minimum amount of nights for which you can book their place. As such, the amount available is not always indicative of the amount to be paid and thus, this variable shows `price * minimum_nights + cleaning_fee`\n",
    "- `two_weeks_price` - same formula as above but istead of minimum nights the price has been multiplied by 14\n",
    "- `nps` - where `Excellent` represents reviews greater than 90, `Okay` represents those greater than 70, `No Bueno` those that are less than 70, and `No Review` is self explanatory.\n",
    "\n",
    "Lastly, we also have a geodataframe containing the coordinates of the major suburbs in Sydney. This dataset is available on the Inside Airbnb website, but you can also find it on different governmental websites of New South Wales and the city of Sydney."
   ]
  },
  {
   "cell_type": "markdown",
   "id": "c4f61248-c560-4297-aaa4-530b9b155f71",
   "metadata": {},
   "source": [
    "## 4. Tools"
   ]
  },
  {
   "cell_type": "markdown",
   "id": "2a3b365a-80ee-4ad8-bd59-9c2e170da5b5",
   "metadata": {},
   "source": [
    "These are the tools we will use throughout the tutorial, they will help us make the most out of our data to derive some insights and share our results with others. The summary for each library was taken directly from their respective website, except for bokeh (I wrote that but I am sure that definition can be found on their website), and you can go to those websites by clicking on their names.\n",
    "\n",
    "- [pandas](https://pandas.pydata.org/)\n",
    "\n",
    "> \"pandas is a fast, powerful, flexible and easy to use open source data analysis and manipulation tool,\n",
    "built on top of the Python programming language.\"\n",
    "\n",
    "- [geopandas](https://geopandas.org/)\n",
    "\n",
    "> \"GeoPandas is an open source project to make working with geospatial data in python easier. GeoPandas extends the datatypes used by pandas to allow spatial operations on geometric types. Geometric operations are performed by shapely. Geopandas further depends on fiona for file access and matplotlib for plotting.\"\n",
    "\n",
    "- [HoloViews](https://holoviews.org/)\n",
    "\n",
    "> \"HoloViews is an open-source Python library designed to make data analysis and visualization seamless and simple. With HoloViews, you can usually express what you want to do in very few lines of code, letting you focus on what you are trying to explore and convey, not on the process of plotting.\"\n",
    "\n",
    "- [GeoViews](https://geoviews.org/)\n",
    "\n",
    "> \"GeoViews is a Python library that makes it easy to explore and visualize geographical, meteorological, and oceanographic datasets, such as those used in weather, climate, and remote sensing research.\"\n",
    "\n",
    "- [Panel](https://panel.holoviz.org/)\n",
    "\n",
    "> \"Panel is an open-source Python library that lets you create custom interactive web apps and dashboards by connecting user-defined widgets to plots, images, tables, or text.\"\n",
    "\n",
    "Let's get started by importing these packages and one we saw in the previous section, pathlib."
   ]
  },
  {
   "cell_type": "code",
   "execution_count": null,
   "id": "intensive-lebanon",
   "metadata": {},
   "outputs": [],
   "source": [
    "import pandas as pd, numpy as np, os\n",
    "import matplotlib.pyplot as plt\n",
    "import holoviews as hv, panel as pn\n",
    "from holoviews import dim, opts\n",
    "import geopandas as gpd, geoviews as gv\n",
    "from holoviews.element import tiles\n",
    "from pathlib import Path\n",
    "\n",
    "hv.extension('bokeh', 'matplotlib')\n",
    "pn.extension()\n",
    "\n",
    "%load_ext autoreload\n",
    "%autoreload 2\n",
    "\n",
    "pd.options.display.max_columns = None\n",
    "pd.options.display.max_rows = None\n",
    "pd.options.display.float_format = '{:.2f}'.format"
   ]
  },
  {
   "cell_type": "code",
   "execution_count": null,
   "id": "2b7b562b-3e16-4a33-94bb-97375bee380e",
   "metadata": {},
   "outputs": [],
   "source": [
    "path = Path().cwd().parent.joinpath(\"data\", \"03_part\")\n",
    "path # this will show your path all the way from the root directory of your laptop."
   ]
  },
  {
   "cell_type": "markdown",
   "id": "eight-blood",
   "metadata": {},
   "source": [
    "### The Airbnb Data"
   ]
  },
  {
   "cell_type": "code",
   "execution_count": null,
   "id": "abandoned-buyer",
   "metadata": {},
   "outputs": [],
   "source": [
    "df = pd.read_parquet(path.joinpath(\"sydney_airbnb.parquet\"))\n",
    "df.shape"
   ]
  },
  {
   "cell_type": "code",
   "execution_count": null,
   "id": "laden-paper",
   "metadata": {},
   "outputs": [],
   "source": [
    "df.head(2)"
   ]
  },
  {
   "cell_type": "markdown",
   "id": "cleared-roman",
   "metadata": {},
   "source": [
    "### The GeoDataFrame"
   ]
  },
  {
   "cell_type": "code",
   "execution_count": null,
   "id": "sunrise-argument",
   "metadata": {},
   "outputs": [],
   "source": [
    "subs_geo = gpd.read_file(path.joinpath(\"neighbourhoods.geojson\"))"
   ]
  },
  {
   "cell_type": "code",
   "execution_count": null,
   "id": "tutorial-verification",
   "metadata": {},
   "outputs": [],
   "source": [
    "subs_geo.head()"
   ]
  },
  {
   "cell_type": "markdown",
   "id": "functioning-techno",
   "metadata": {},
   "source": [
    "## 5. Dashboard Breakdown"
   ]
  },
  {
   "cell_type": "markdown",
   "id": "unlike-microwave",
   "metadata": {},
   "source": [
    "When we go on a vacation (or on \"Holidays\" depending on where you are at around the globe), one of the most important things we'd love to see are the key metrics we care about such as,\n",
    "- location\n",
    "- total price for our stay\n",
    "- reviews of the listing\n",
    "- cleanliness\n",
    "- what transportation is like in the area\n",
    "- and so on...\n",
    "\n",
    "Wouldn't it be nice if everything we cared about was available in a single place for us to use and make a decision from? Let's create just that. 😎\n",
    "\n",
    "This section is all about building a dashboard with our key metrics. We will start with the widgets, the tools that provide us with interactivity, and work our way upwards until we get to the final output."
   ]
  },
  {
   "cell_type": "markdown",
   "id": "acute-democracy",
   "metadata": {},
   "source": [
    "### 5.1 The Widgets"
   ]
  },
  {
   "cell_type": "markdown",
   "id": "graduate-theme",
   "metadata": {},
   "source": [
    "Panel contains plenty of widgets for us from a function called `interact` and another called `widgets`. The former provides interactive capabilities to user-defined functions and that in turn allows us to parametrise the arguments we pass into different plotting methods. The latter creates a user interface as tiny as input box and as complex as a full web application.\n",
    "\n",
    "Both tools provide a fine control on the interactivity behind the scenes of a complex web application. In some instances, we can also access some of the JavaScript and CSS code running behind the scenes to customise our applications even further.\n",
    "\n",
    "One thing we might care about, depending on how many people we might be traveling with, is the kind of property we want to rent. If we go on a family trip, a big house, villa, or condo might suffice. If we go on our own, a hostel will be a great choice to meet people and to quickly find things to do. That said, let's first create a list will all of the kinds of properties in our dataset, and then check out how panles' `widgets` work."
   ]
  },
  {
   "cell_type": "code",
   "execution_count": null,
   "id": "compliant-banana",
   "metadata": {},
   "outputs": [],
   "source": [
    "property_types = list(df['property_type'].unique())\n",
    "property_types"
   ]
  },
  {
   "cell_type": "code",
   "execution_count": null,
   "id": "formal-tobacco",
   "metadata": {},
   "outputs": [],
   "source": [
    "p_type = pn.widgets.Select(value='Apartment', options=property_types, name='Property Type')\n",
    "p_type"
   ]
  },
  {
   "cell_type": "markdown",
   "id": "persistent-collection",
   "metadata": {},
   "source": [
    "Noticed what just happened, using `pn.widgets.Select` we assigned a default `value` to a widget that allow users to choose a property from a list of `options`. We also gave it a name to make it even more intuitive.\n",
    "\n",
    "We will also want to check listings based on their net promoter score or NPS. If this is the first time you're hearing about NPS you can think of it as,\n",
    "\n",
    "> \"NPS is a widely used market research metric that is based on a single survey question asking respondents to rate the likelihood that they would recommend a company, product, or a service to a friend or colleague. The NPS assumes a subdivision of respondents into \"promoters\" who provide ratings of 9 or 10, \"passives\" who provide ratings of 7 or 8, and \"detractors\" who provide ratings of 6 or lower. The net promoter score results from a calculation that involves subtracting the percentage of detractors from the percentage of promoters collected by the survey item. The result of the calculation is typically expressed as an integer rather than a percentage.\""
   ]
  },
  {
   "cell_type": "code",
   "execution_count": null,
   "id": "3ff02e12-f552-4674-ace4-36b2f093df72",
   "metadata": {},
   "outputs": [],
   "source": [
    "nps_vals = list(df.nps.unique())\n",
    "nps = pn.widgets.Select(value='Excellent', options=nps_vals, name='Net Promoters')\n",
    "nps"
   ]
  },
  {
   "cell_type": "markdown",
   "id": "consistent-circumstances",
   "metadata": {},
   "source": [
    "While we will only use the `pn.widgets.Select` and `pn.interact` functions for this notebook, there are other amazing widgets that you should definitely explore whenever you can at [panel widgets](https://panel.holoviz.org/user_guide/Widgets.html).\n",
    "\n",
    "Time for a quick exercise."
   ]
  },
  {
   "cell_type": "markdown",
   "id": "headed-filing",
   "metadata": {},
   "source": [
    "## Exercise\n",
    "\n",
    "1. Pick any categorical column from the dataset.\n",
    "2. Get the unique values of such category.\n",
    "3. Create a widget, assign it to a variable called `my_widget` and then display it."
   ]
  },
  {
   "cell_type": "code",
   "execution_count": null,
   "id": "alleged-channels",
   "metadata": {},
   "outputs": [],
   "source": []
  },
  {
   "cell_type": "code",
   "execution_count": null,
   "id": "ac1f1f0c-65b3-4a27-927b-ab4463171de8",
   "metadata": {},
   "outputs": [],
   "source": []
  },
  {
   "cell_type": "code",
   "execution_count": null,
   "id": "utility-helicopter",
   "metadata": {},
   "outputs": [],
   "source": []
  },
  {
   "cell_type": "markdown",
   "id": "funded-greenhouse",
   "metadata": {},
   "source": [
    "### 5.2 The Map"
   ]
  },
  {
   "cell_type": "markdown",
   "id": "unknown-surveillance",
   "metadata": {},
   "source": [
    "We will use a map to help us find the best priced locations to stay at. Let's start with the median apartment price per suburb. We will,\n",
    "1. filter our main dataset for apartments\n",
    "2. group it by the neighborhood and take the median price of the `min_price_per_stay` column\n",
    "3. merge it with our geodataframe containing the the coordinates of the different suburbs in Sydney\n",
    "4. convert back into geodataframe\n",
    "5. create an interactive map"
   ]
  },
  {
   "cell_type": "code",
   "execution_count": null,
   "id": "equal-inflation",
   "metadata": {},
   "outputs": [],
   "source": [
    "# Step 1: get the apartments\n",
    "data = df[df['property_type'] == 'Apartment'].copy()"
   ]
  },
  {
   "cell_type": "code",
   "execution_count": null,
   "id": "peaceful-nevada",
   "metadata": {},
   "outputs": [],
   "source": [
    "# Step 2: get the minimum price per suburb\n",
    "data_group = data.groupby('neighbourhood_cleansed')['min_price_per_stay'].median().reset_index()\n",
    "data_group.head()"
   ]
  },
  {
   "cell_type": "code",
   "execution_count": null,
   "id": "comparable-carrier",
   "metadata": {},
   "outputs": [],
   "source": [
    "# Step 3: combine with the geospatial data\n",
    "data_merged = (data_group.merge(subs_geo[['neighbourhood', 'geometry']], \n",
    "                                left_on='neighbourhood_cleansed', right_on='neighbourhood')\n",
    "                         .drop('neighbourhood', axis=1).rename(columns={'neighbourhood_cleansed': \"Suburb\"}))\n",
    "data_merged.head()"
   ]
  },
  {
   "cell_type": "code",
   "execution_count": null,
   "id": "bc50b186-611f-4772-8a1f-950311fc4114",
   "metadata": {},
   "outputs": [],
   "source": [
    "# Step 4: convert back into geodataframe\n",
    "print(type(data_merged))\n",
    "geo_data = gpd.GeoDataFrame(data_merged)\n",
    "print(type(geo_data))"
   ]
  },
  {
   "cell_type": "markdown",
   "id": "inside-camel",
   "metadata": {},
   "source": [
    "Let's now create our choropleth map."
   ]
  },
  {
   "cell_type": "code",
   "execution_count": null,
   "id": "awful-broadcast",
   "metadata": {},
   "outputs": [],
   "source": [
    "# Step 5: Visualise it\n",
    "geo_fig = (gv.Polygons(geo_data, vdims=['Suburb', 'min_price_per_stay'])\n",
    "             .opts(tools=['hover'],  width=500,     height=400,      color='min_price_per_stay', \n",
    "                   cmap='viridis_r', colorbar=True, toolbar='below', xaxis=None, yaxis=None, color_levels=20))\n",
    "geo_fig"
   ]
  },
  {
   "cell_type": "markdown",
   "id": "attempted-vision",
   "metadata": {},
   "source": [
    "Let's walk through what just happened. We used the geoviews function `gv.Polygons` to create a map using the coordinates column called `geometry` in our dataset. We needed to specify the value dimensions we wanted to overlay on top of our polygons.\n",
    "\n",
    "At face value, the default options would have given us a slightly awkward looking map so we used a few of the parameters available at our disposal to make our map look nicer. Here's what we have.\n",
    "\n",
    "- `tools=['hover']` -> display the information of our variables when our pointer crosses over portions of our map.\n",
    "- `width=500` -> sets a hard width for the canvas of our map.\n",
    "- `height=400` -> sets a hard height for the canvas of our map.\n",
    "- `color='min_price_per_stay'` -> colors the suburbs based on the values of whichever variable we pass through it.\n",
    "- `cmap='viridis_r'` -> color pallette chosen for this dataviz. There are plenty more to choose from in the matplotlib and bokeh's documentation as well.\n",
    "- `colorbar=True` -> displays the bar on the right that contains a gradient of colors based on the values we colored the map with.\n",
    "- `toolbar='below'` -> moves the toolbar around the canvas.\n",
    "- `xaxis=None` -> helps us hide the longitude.\n",
    "- `yaxis=None` -> helps us hide the latitude.\n",
    "- `color_levels=20` -> sets the levels of colors we want use to represent the values in our suburbs. \n",
    "\n",
    "We can also overlay map projections underneath our polygons to make our visualization look more realistic. All we need to do is to pick our favorite one from the tiles module in Holoviews and place it underneath our polygons using the `*` sign as if we were multiplying the two figures. The order goes from left to right."
   ]
  },
  {
   "cell_type": "code",
   "execution_count": null,
   "id": "embedded-jerusalem",
   "metadata": {},
   "outputs": [],
   "source": [
    "# (tiles.CartoLight() * geo_fig).relabel(label=f'Median Listing Price by Suburb')"
   ]
  },
  {
   "cell_type": "markdown",
   "id": "smoking-starter",
   "metadata": {},
   "source": [
    "Fantastic!\n",
    "\n",
    "Now, the key to create interactive visualisations is to package our code into functions decorated by `pn.depends`. These functions will take in our widget from before and run every time we change the value of our widgets. We need to remember to tell panel which parameter value to access from our widget and we can do this from the decorator as `@pn.depends(p_type.param.value)`.\n",
    "\n",
    "So now, let's use the same lines from above and create a function."
   ]
  },
  {
   "cell_type": "code",
   "execution_count": null,
   "id": "64be571b-ea43-48b0-adc1-81b87631f235",
   "metadata": {},
   "outputs": [],
   "source": [
    "map_options = dict(tools=['hover'], width=500, height=420, color='min_price_per_stay', cmap='viridis_r',\n",
    "                   colorbar=True, toolbar='above', xaxis=None, yaxis=None, color_levels=20)"
   ]
  },
  {
   "cell_type": "code",
   "execution_count": null,
   "id": "convinced-technology",
   "metadata": {},
   "outputs": [],
   "source": [
    "@pn.depends(p_type.param.value)\n",
    "def get_map(p_type):\n",
    "    \n",
    "    data = df[df['property_type'] == p_type].copy() # allow our data to change every time the argument p_type changes\n",
    "    grouped = data.groupby('neighbourhood_cleansed')['min_price_per_stay'].median().reset_index()\n",
    "    merged = gpd.GeoDataFrame((grouped.merge(subs_geo[['neighbourhood', 'geometry']], left_on='neighbourhood_cleansed', \n",
    "                right_on='neighbourhood').drop('neighbourhood', axis=1).rename(columns={'neighbourhood_cleansed': \"Suburb\"})))\n",
    "    fig = gv.Polygons(merged, vdims=['Suburb', 'min_price_per_stay']).opts(**map_options)\n",
    "    \n",
    "    return (tiles.CartoLight() * fig).relabel(label=f'Median Listing Price per {p_type}')"
   ]
  },
  {
   "cell_type": "markdown",
   "id": "c794d6f4-fce4-4cc6-b80f-1d8798aa1dc6",
   "metadata": {},
   "source": [
    "To combine widgets and custom visualization functions we can use `pn.Row` or `pn.Column`, among others. These two functions from `panel` behave as numpy arrays for but for many other objects. This means you can assign and access elements in the same way in which you would in numpy or plain python, but you can also add color to the background, mess around with the sizing or even deploy such elements as running processes. \n",
    "\n",
    "Let's have a look."
   ]
  },
  {
   "cell_type": "code",
   "execution_count": null,
   "id": "soviet-interference",
   "metadata": {},
   "outputs": [],
   "source": [
    "# let's test our function and widget in a row object\n",
    "pn.Row(p_type, get_map)"
   ]
  },
  {
   "cell_type": "markdown",
   "id": "lovely-croatia",
   "metadata": {},
   "source": [
    "### Exercise"
   ]
  },
  {
   "cell_type": "markdown",
   "id": "suburban-michigan",
   "metadata": {},
   "source": [
    "Create a choropleth map of using the median value of a two week stay alongside an interactive widget containing the cancellation policy. For this you will need to\n",
    "1. Create a list with the unique values of the cancellation policy column\n",
    "2. Create a groupby object by the cancellation policy and the two week stay price\n",
    "3. Combine the group data with the geodataframe\n",
    "4. Create a function with your map and cancellation policy\n",
    "5. Display widget and map as a row or column"
   ]
  },
  {
   "cell_type": "code",
   "execution_count": null,
   "id": "revised-french",
   "metadata": {},
   "outputs": [],
   "source": []
  },
  {
   "cell_type": "code",
   "execution_count": null,
   "id": "bizarre-fleece",
   "metadata": {},
   "outputs": [],
   "source": []
  },
  {
   "cell_type": "code",
   "execution_count": null,
   "id": "modern-preparation",
   "metadata": {},
   "outputs": [],
   "source": []
  },
  {
   "cell_type": "markdown",
   "id": "empty-queensland",
   "metadata": {},
   "source": [
    "### 5.3 The Table"
   ]
  },
  {
   "cell_type": "markdown",
   "id": "quiet-plenty",
   "metadata": {},
   "source": [
    "Tables are exactly that, a view whatever data we have but with an interactive component to it. We will create one for the reviews in our dataset.\n",
    "\n",
    "Let's change the names of the columns first."
   ]
  },
  {
   "cell_type": "code",
   "execution_count": null,
   "id": "subsequent-conjunction",
   "metadata": {},
   "outputs": [],
   "source": [
    "reviews = ['review_scores_checkin', 'review_scores_cleanliness', 'review_scores_accuracy', \n",
    "           'review_scores_location', 'review_scores_communication', 'review_scores_value']\n",
    "new_names = ['Checkin', 'Cleanliness', 'Accuracy', 'Location', 'Communication', \"Value\"]\n",
    "\n",
    "names_dict = {old:new for old, new in zip(reviews, new_names)}\n",
    "names_dict"
   ]
  },
  {
   "cell_type": "markdown",
   "id": "mineral-brighton",
   "metadata": {},
   "source": [
    "Let's now create a double mask for the Apartments and the listings with at least 1 review."
   ]
  },
  {
   "cell_type": "code",
   "execution_count": null,
   "id": "wicked-change",
   "metadata": {},
   "outputs": [],
   "source": [
    "p_revs_mask = (df['property_type'] == 'Apartment') & (df['number_of_reviews'] > 0)"
   ]
  },
  {
   "cell_type": "code",
   "execution_count": null,
   "id": "promising-opera",
   "metadata": {},
   "outputs": [],
   "source": [
    "# filter our undersired listings and create a new dataset\n",
    "data = df[p_revs_mask].copy()\n",
    "# rename the review columns\n",
    "data.rename(names_dict, axis=1, inplace=True)"
   ]
  },
  {
   "cell_type": "markdown",
   "id": "continuous-latitude",
   "metadata": {},
   "source": [
    "We will examine the average review score for 6 criteria and add the results to a holoviews table."
   ]
  },
  {
   "cell_type": "code",
   "execution_count": null,
   "id": "genetic-bhutan",
   "metadata": {},
   "outputs": [],
   "source": [
    "data_group = data[new_names].mean().to_frame(name='vals').reset_index()\n",
    "data_group.columns = ['Reviews', 'Average Score']"
   ]
  },
  {
   "cell_type": "code",
   "execution_count": null,
   "id": "neural-timer",
   "metadata": {},
   "outputs": [],
   "source": [
    "table = hv.Table(data_group).opts(width=250, height=180)\n",
    "table"
   ]
  },
  {
   "cell_type": "markdown",
   "id": "enabling-performer",
   "metadata": {},
   "source": [
    "Now let's wrap our process again into a function that will take only one parameter, the property type."
   ]
  },
  {
   "cell_type": "code",
   "execution_count": null,
   "id": "standing-canyon",
   "metadata": {},
   "outputs": [],
   "source": [
    "@pn.depends(p_type.param.value)\n",
    "def get_rev_table(p_type):\n",
    "    \n",
    "    masks = (df['property_type'] == p_type) & (df['number_of_reviews'] > 0)\n",
    "    data = df[masks].copy().rename(names_dict, axis=1)\n",
    "    data_group = data[new_names].mean().to_frame(name='vals').reset_index()\n",
    "    data_group.columns = ['Reviews', 'Average Score']\n",
    "    \n",
    "    return hv.Table(data_group).opts(width=250, height=180, bgcolor='red')"
   ]
  },
  {
   "cell_type": "markdown",
   "id": "numerical-sculpture",
   "metadata": {},
   "source": [
    "We can also examine the functions individually with one value. Try switching it a bit for Condominiums, Lofts, or anything else."
   ]
  },
  {
   "cell_type": "code",
   "execution_count": null,
   "id": "western-improvement",
   "metadata": {},
   "outputs": [],
   "source": [
    "get_rev_table(\"Apartment\")"
   ]
  },
  {
   "cell_type": "code",
   "execution_count": null,
   "id": "durable-supply",
   "metadata": {},
   "outputs": [],
   "source": [
    "# if you ever with holoviews functions, make sure to use\n",
    "# hv.help(opts.Table)"
   ]
  },
  {
   "cell_type": "code",
   "execution_count": null,
   "id": "pregnant-label",
   "metadata": {},
   "outputs": [],
   "source": [
    "pn.Column(p_type, get_rev_table)"
   ]
  },
  {
   "cell_type": "markdown",
   "id": "japanese-coalition",
   "metadata": {},
   "source": [
    "### 5.4 The Whiskers 🐱"
   ]
  },
  {
   "cell_type": "markdown",
   "id": "boolean-sacrifice",
   "metadata": {},
   "source": [
    "Box plots are incredibly useful for telling us the key descriptive statistics of a variable. Mainly, they provide us with the minimum value, the interquartile, the median, the maximum, and a view of the outliers, if any.\n",
    "\n",
    "For a quick example, let's assume that we have a budget of $2,000 for a 2-week vavation, and let's also assume that we will only stay at places with excellent ratings."
   ]
  },
  {
   "cell_type": "code",
   "execution_count": null,
   "id": "russian-destination",
   "metadata": {},
   "outputs": [],
   "source": [
    "nps_budget_mask = (df['nps'] == 'Excellent') & (df['two_weeks_price'] < 2000)"
   ]
  },
  {
   "cell_type": "code",
   "execution_count": null,
   "id": "stone-archive",
   "metadata": {},
   "outputs": [],
   "source": [
    "data = df.loc[nps_budget_mask, ['property_type', 'two_weeks_price']].copy()"
   ]
  },
  {
   "cell_type": "code",
   "execution_count": null,
   "id": "careful-newport",
   "metadata": {},
   "outputs": [],
   "source": [
    "# since our label is a bit long we will add it to a variable\n",
    "label = \"(2-Week Stay) Price Range per Property Type with  Reviews\""
   ]
  },
  {
   "cell_type": "markdown",
   "id": "warming-helping",
   "metadata": {},
   "source": [
    "Let's now create our box plot using holoview function `hv.BoxWhisker`, which contains most of the parameters we are familiar with by now."
   ]
  },
  {
   "cell_type": "code",
   "execution_count": null,
   "id": "charming-genetics",
   "metadata": {},
   "outputs": [],
   "source": [
    "bw = hv.BoxWhisker(data, 'property_type', 'two_weeks_price', label=label)\n",
    "bw"
   ]
  },
  {
   "cell_type": "markdown",
   "id": "fifteen-petite",
   "metadata": {},
   "source": [
    "As we can see, our chart needs some options to be more useful, so let's give some of the ones we have already used."
   ]
  },
  {
   "cell_type": "code",
   "execution_count": null,
   "id": "periodic-reduction",
   "metadata": {},
   "outputs": [],
   "source": [
    "bw.opts(box_fill_color='#D5E051', box_line_color='#5F6062', width=600, height=250, box_line_width=1,\n",
    "        whisker_color='#FFFFFF', xrotation=25, bgcolor='#5F6062', labelled=[], outlier_color='#FFFFFF')"
   ]
  },
  {
   "cell_type": "markdown",
   "id": "innocent-world",
   "metadata": {},
   "source": [
    "Let's now package eveything in a function that will change given the net promoter score."
   ]
  },
  {
   "cell_type": "code",
   "execution_count": null,
   "id": "79f36593-f6ca-4aff-a346-7d4cf6595f0e",
   "metadata": {},
   "outputs": [],
   "source": [
    "pretty_options = dict(box_fill_color='#D5E051', box_line_color='#5F6062', width=650, height=250, box_line_width=1, \n",
    "                      whisker_color='#FFFFFF', xrotation=25, bgcolor='#5F6062', outlier_color='#FFFFFF')"
   ]
  },
  {
   "cell_type": "code",
   "execution_count": null,
   "id": "pressing-ebony",
   "metadata": {},
   "outputs": [],
   "source": [
    "@pn.depends(nps.param.value)\n",
    "def cat_whisker(nps):\n",
    "    \n",
    "    nps_budget_mask = (df['nps'] == nps) & (df['two_weeks_price'] < 2000)\n",
    "    data = df.loc[nps_budget_mask, ['property_type', 'two_weeks_price']].copy()\n",
    "    label = f\"(2-Week Stay) Price Range per Property Type with {nps} Reviews\"\n",
    "    \n",
    "    return hv.BoxWhisker(data, 'property_type', 'two_weeks_price', label=label).opts(**pretty_options)"
   ]
  },
  {
   "cell_type": "code",
   "execution_count": null,
   "id": "middle-absorption",
   "metadata": {},
   "outputs": [],
   "source": [
    "pn.Column(nps, cat_whisker)"
   ]
  },
  {
   "cell_type": "markdown",
   "id": "dramatic-hygiene",
   "metadata": {},
   "source": [
    "### Exercise"
   ]
  },
  {
   "cell_type": "markdown",
   "id": "neural-showcase",
   "metadata": {},
   "source": [
    "Create a box and whisker plot showing the distribution of the cleaning fee column. You can use the property type as your x axis again."
   ]
  },
  {
   "cell_type": "code",
   "execution_count": null,
   "id": "thrown-celebration",
   "metadata": {},
   "outputs": [],
   "source": []
  },
  {
   "cell_type": "code",
   "execution_count": null,
   "id": "referenced-methodology",
   "metadata": {},
   "outputs": [],
   "source": []
  },
  {
   "cell_type": "code",
   "execution_count": null,
   "id": "pleasant-conversion",
   "metadata": {},
   "outputs": [],
   "source": []
  },
  {
   "cell_type": "markdown",
   "id": "artistic-chocolate",
   "metadata": {},
   "source": [
    "### 5.5 Dots as Bars"
   ]
  },
  {
   "cell_type": "markdown",
   "id": "tropical-budget",
   "metadata": {},
   "source": [
    "In this section, we want to use a variation of a bar chart in order to answer the following question.\n",
    "\n",
    "> What's the different between the average number of reviews recieved per suburb when split by super hosts and regular hosts?\n",
    "\n",
    "By now you must recognized the pattern we are following. We first declare the widgets we want our visualizations to interact with, we then filter the dataframe by the measure of the widget, group by some other measure, and then add our widgets as a parameter to the decorator of a function that gives us the object we want. Let's go at it again."
   ]
  },
  {
   "cell_type": "code",
   "execution_count": null,
   "id": "logical-howard",
   "metadata": {},
   "outputs": [],
   "source": [
    "# we want apatments with at least 1 review\n",
    "p_revs_mask.head(7)"
   ]
  },
  {
   "cell_type": "code",
   "execution_count": null,
   "id": "covered-integral",
   "metadata": {},
   "outputs": [],
   "source": [
    "data = df[p_revs_mask].copy()\n",
    "group = data.groupby(['neighbourhood_cleansed', 'host_is_superhost'])['number_of_reviews'].mean().reset_index()\n",
    "group.head()"
   ]
  },
  {
   "cell_type": "markdown",
   "id": "revolutionary-cursor",
   "metadata": {},
   "source": [
    "We want to know if super hosts get more reviews, on average, than regular hosts, so let's create 2 filtered dataframes for this."
   ]
  },
  {
   "cell_type": "code",
   "execution_count": null,
   "id": "shaped-scott",
   "metadata": {},
   "outputs": [],
   "source": [
    "superh = group[group['host_is_superhost'] == 't']\n",
    "regularh = group[group['host_is_superhost'] == 'f']"
   ]
  },
  {
   "cell_type": "markdown",
   "id": "rising-routine",
   "metadata": {},
   "source": [
    "We then create our first scatter and load it with options."
   ]
  },
  {
   "cell_type": "code",
   "execution_count": null,
   "id": "d7e6e3a8-217a-4fa1-970e-ad7d02b18aa9",
   "metadata": {},
   "outputs": [],
   "source": [
    "optional_settings = dict(width=500, show_grid=True, height=420, invert_axes=True, size=7, tools=['hover'],\n",
    "                         legend_position='bottom_right', toolbar='right', labelled=[], title=\"Average # of Reviews per Suburb\")"
   ]
  },
  {
   "cell_type": "code",
   "execution_count": null,
   "id": "conventional-scientist",
   "metadata": {},
   "outputs": [],
   "source": [
    "dots1 = (hv.Scatter(superh, 'neighbourhood_cleansed', 'number_of_reviews', label='Super Hosts')\n",
    "           .sort('number_of_reviews').opts(**optional_settings, color='#D5E051'))\n",
    "dots1"
   ]
  },
  {
   "cell_type": "markdown",
   "id": "a5eb1647-4c92-4e79-9ca9-40b326b097a2",
   "metadata": {},
   "source": [
    "Luckily, the second scatter does not need as many functions as we will overlay it on top of the sorted first right away."
   ]
  },
  {
   "cell_type": "code",
   "execution_count": null,
   "id": "apart-medicare",
   "metadata": {},
   "outputs": [],
   "source": [
    "dots2 = (hv.Scatter(regularh, 'neighbourhood_cleansed', 'number_of_reviews', label='Regular Hosts')\n",
    "           .opts(**optional_settings, color='#D8DEE9'))\n",
    "dots2"
   ]
  },
  {
   "cell_type": "markdown",
   "id": "0a801dbd-52f6-4eb9-a7a3-b863593fb1fb",
   "metadata": {},
   "source": [
    "We can overlay the two with the `*` sign."
   ]
  },
  {
   "cell_type": "code",
   "execution_count": null,
   "id": "blessed-mobility",
   "metadata": {},
   "outputs": [],
   "source": [
    "(dots1 * dots2)"
   ]
  },
  {
   "cell_type": "markdown",
   "id": "bibliographic-drive",
   "metadata": {},
   "source": [
    "Let's wrap it all up in a function now but this time, we will use both parameters, the nps and the property type.\n",
    "\n",
    "**Note** that you can add as many parameters as you'd like but keep in mind that that can increase the complexity of your visualization and the hardware requirements for your applications."
   ]
  },
  {
   "cell_type": "code",
   "execution_count": null,
   "id": "proud-dragon",
   "metadata": {},
   "outputs": [],
   "source": [
    "@pn.depends(p_type.param.value, nps.param.value)\n",
    "def my_dots(p_type, nps):\n",
    "    \n",
    "    mask_group = (df['nps'] == nps) & (df['property_type'] == p_type) & (df['number_of_reviews'] > 0)\n",
    "    group = df[mask_group].copy().groupby(['neighbourhood_cleansed', 'host_is_superhost'])['number_of_reviews'].mean().reset_index()\n",
    "    superh, regularh = group[group['host_is_superhost'] == 't'], group[group['host_is_superhost'] == 'f']\n",
    "    \n",
    "    dots1 = (hv.Scatter(superh, 'neighbourhood_cleansed', 'number_of_reviews', label='Super Hosts').sort('number_of_reviews')\n",
    "               .opts(color='#D5E051', **optional_settings))\n",
    "    dots2 = hv.Scatter(regularh, 'neighbourhood_cleansed', 'number_of_reviews', label='Regular Hosts').opts(size=7, color='#2E3440')\n",
    "    \n",
    "    return (dots1 * dots2)"
   ]
  },
  {
   "cell_type": "code",
   "execution_count": null,
   "id": "documentary-given",
   "metadata": {},
   "outputs": [],
   "source": [
    "pn.Column(p_type, nps, my_dots)"
   ]
  },
  {
   "cell_type": "markdown",
   "id": "dimensional-silence",
   "metadata": {},
   "source": [
    "### 5.6 The BANs"
   ]
  },
  {
   "cell_type": "markdown",
   "id": "exact-assignment",
   "metadata": {},
   "source": [
    "BAN, as depicted in **The Big Book of Dashboards**, stands for **big ass numbers**, and they are used to represent an important number such as a metric or a key performance indicator.\n",
    "\n",
    "Let's go immediately to the function of 1 BAN with a title."
   ]
  },
  {
   "cell_type": "code",
   "execution_count": null,
   "id": "fleet-nerve",
   "metadata": {},
   "outputs": [],
   "source": [
    "@pn.depends(p_type.param.value)\n",
    "def ban_small(p_type):\n",
    "    \n",
    "    p_mask = df['property_type'] == p_type\n",
    "    data = df[p_mask].copy()    \n",
    "    main_title = pn.pane.Markdown(f\"# {p_type}\", style={'color':'#FFFFFF'})\n",
    "    \n",
    "    return pn.Column(main_title, pn.indicators.Number(name='Listings', value=p_mask.sum(), default_color='#FFFFFF', \n",
    "                     align='start', font_size='13pt', title_size='13pt', format='{value:,.0f}'))"
   ]
  },
  {
   "cell_type": "code",
   "execution_count": null,
   "id": "cutting-clark",
   "metadata": {},
   "outputs": [],
   "source": [
    "pn.Row(p_type, ban_small)"
   ]
  },
  {
   "cell_type": "markdown",
   "id": "fourth-austria",
   "metadata": {},
   "source": [
    "Let's take our the global options and make the function above a bit more robust."
   ]
  },
  {
   "cell_type": "code",
   "execution_count": null,
   "id": "9753ffd0-05d6-4197-9148-173175824521",
   "metadata": {},
   "outputs": [],
   "source": [
    "# the global options that fit our 3 BANS\n",
    "g_opts = dict(default_color='#FFFFFF', align='center', font_size='13pt', title_size='13pt')"
   ]
  },
  {
   "cell_type": "code",
   "execution_count": null,
   "id": "chinese-cleveland",
   "metadata": {},
   "outputs": [],
   "source": [
    "@pn.depends(p_type.param.value)\n",
    "def bans(p_type):\n",
    "    \n",
    "    p_mask = df['property_type'] == p_type\n",
    "    data = df[p_mask].copy()\n",
    "    \n",
    "    # the BANs will need a sum a count and a mean \n",
    "    listings = p_mask.sum() \n",
    "    super_host = data.groupby('host_is_superhost')['host_is_superhost'].count().loc['t']\n",
    "    avg_price = data['price'].mean()\n",
    "    \n",
    "    # the title will change depending on the property type\n",
    "    main_title = pn.pane.Markdown(f\"# {p_type}\", style={'color':'#FFFFFF'})\n",
    "    \n",
    "    ban1 = pn.indicators.Number(name=\"Listings\", value=listings, **g_opts, format='{value:,.0f}', width=70)\n",
    "    ban2 = pn.indicators.Number(name=\"Super Hosts\", value=super_host, **g_opts, format='{value:,.0f}', width=100)\n",
    "    ban3 = pn.indicators.Number(name=\"Avg Price/Night\", value=avg_price, **g_opts, format='${value:,.0f}', width=130)\n",
    "    \n",
    "    return pn.Column(main_title, pn.Row(ban1, ban2, ban3, align='start'), align='start', height=80, width=70)"
   ]
  },
  {
   "cell_type": "markdown",
   "id": "8f43e3dd-1553-4384-b619-9370223f08f0",
   "metadata": {},
   "source": [
    "Let's evaluate the output by calling the function on houses."
   ]
  },
  {
   "cell_type": "code",
   "execution_count": null,
   "id": "ca29467d-64ac-4955-bad1-f7a73e4a3219",
   "metadata": {},
   "outputs": [],
   "source": [
    "bans(\"House\")"
   ]
  },
  {
   "cell_type": "markdown",
   "id": "confirmed-boring",
   "metadata": {},
   "source": [
    "### Exercise"
   ]
  },
  {
   "cell_type": "markdown",
   "id": "neither-hayes",
   "metadata": {},
   "source": [
    "Create a BAN function for the mean price per bed type and have it interact with our nps score\n",
    "\n",
    "1. Your function will take the nps widget\n",
    "2. filter for an nps\n",
    "3. that dataframe will be grouped by the bed_type column and\n",
    "4. you will take the mean of the price column\n",
    "5. display the ban and the widget in a column"
   ]
  },
  {
   "cell_type": "code",
   "execution_count": null,
   "id": "dangerous-colombia",
   "metadata": {},
   "outputs": [],
   "source": []
  },
  {
   "cell_type": "code",
   "execution_count": null,
   "id": "hazardous-visitor",
   "metadata": {},
   "outputs": [],
   "source": []
  },
  {
   "cell_type": "markdown",
   "id": "fancy-officer",
   "metadata": {},
   "source": [
    "### 5.7 The Title"
   ]
  },
  {
   "cell_type": "code",
   "execution_count": null,
   "id": "disciplinary-james",
   "metadata": {},
   "outputs": [],
   "source": [
    "text = pn.pane.Markdown(f\"# Airbnb Listings Analysis in Sydney\", style={\"color\": \"#2E3440\"}, width=500, height=50,\n",
    "                        sizing_mode=\"stretch_width\", margin=(0,0,0,5))\n",
    "text"
   ]
  },
  {
   "cell_type": "code",
   "execution_count": null,
   "id": "sunrise-tourism",
   "metadata": {},
   "outputs": [],
   "source": [
    "img1 = pn.pane.PNG(\"https://i.pinimg.com/originals/a3/cd/30/a3cd30c0ba0e7f827dfe22e7a7011cd8.gif\", height=50, sizing_mode=\"fixed\", align=\"center\")\n",
    "img1"
   ]
  },
  {
   "cell_type": "code",
   "execution_count": null,
   "id": "ordinary-missouri",
   "metadata": {},
   "outputs": [],
   "source": [
    "img2 = pn.pane.PNG(\"https://e7.pngegg.com/pngimages/388/581/png-clipart-sydney-opera-house-city-of-sydney-cartoon-illustration-sydney-opera-house-creative-cartoon-cartoon-character-angle.png\", height=50, sizing_mode=\"fixed\", align=\"center\")\n",
    "img2"
   ]
  },
  {
   "cell_type": "code",
   "execution_count": null,
   "id": "wireless-consideration",
   "metadata": {},
   "outputs": [],
   "source": [
    "title = pn.Row(text, img1, img2, background=\"#D8DEE9\", sizing_mode='scale_both', max_height=60, min_width=800)\n",
    "title"
   ]
  },
  {
   "cell_type": "markdown",
   "id": "cloudy-spread",
   "metadata": {},
   "source": [
    "## 6. Putting it all Together"
   ]
  },
  {
   "cell_type": "markdown",
   "id": "ongoing-rates",
   "metadata": {},
   "source": [
    "The most important piece of this part is the sizing of your dashboard or app. Something that works well is to either grab a pen and paper and draw what first what you envision as a dashboard before creating one. While you draw boxes, it is also beneficial play around with the width and the height to each box in your visualization, that way you know how to set proper dimensions later on."
   ]
  },
  {
   "cell_type": "code",
   "execution_count": null,
   "id": "continued-wrestling",
   "metadata": {},
   "outputs": [],
   "source": [
    "c1  = pn.Column(bans, pn.Spacer(height=60), get_rev_table, width=70, height=340, align='center')\n",
    "c1"
   ]
  },
  {
   "cell_type": "code",
   "execution_count": null,
   "id": "turkish-capability",
   "metadata": {},
   "outputs": [],
   "source": [
    "c2 = pn.Column(pn.Row(p_type, nps, align='center'), cat_whisker, height=320, align='center', width=650)\n",
    "c2"
   ]
  },
  {
   "cell_type": "code",
   "execution_count": null,
   "id": "athletic-skirt",
   "metadata": {},
   "outputs": [],
   "source": [
    "r1 = pn.Row(c1, pn.Spacer(width=280), c2, sizing_mode='fixed', align='center', width=1050, height=330)\n",
    "r1"
   ]
  },
  {
   "cell_type": "code",
   "execution_count": null,
   "id": "veterinary-investigation",
   "metadata": {},
   "outputs": [],
   "source": [
    "r2 = pn.Row(my_dots, get_map, align='center', sizing_mode='fixed', width=1050, height=430)\n",
    "r2"
   ]
  },
  {
   "cell_type": "code",
   "execution_count": null,
   "id": "covered-switzerland",
   "metadata": {},
   "outputs": [],
   "source": [
    "dashboard = pn.Column(title, pn.Spacer(height=15), r1, pn.Spacer(height=20), r2, background='#5F6062', sizing_mode='scale_both', \n",
    "          align='center', min_height=1000, min_width=1050)"
   ]
  },
  {
   "cell_type": "code",
   "execution_count": null,
   "id": "inclusive-platinum",
   "metadata": {},
   "outputs": [],
   "source": [
    "dashboard.show(threaded=True)"
   ]
  },
  {
   "cell_type": "markdown",
   "id": "5d6ef34f-012e-41cd-9d05-be07f2c16275",
   "metadata": {
    "tags": []
   },
   "source": [
    "### 6.1 The Theme"
   ]
  },
  {
   "cell_type": "markdown",
   "id": "108f0c4a-37e7-4e83-8806-1932e5693bdf",
   "metadata": {},
   "source": [
    "We can also create and use custom themes to make our dashboards look much prettier. Here is the [inspiration](https://bigbookofdashboards.com/images/Figure13.png) for this one."
   ]
  },
  {
   "cell_type": "code",
   "execution_count": null,
   "id": "careful-settlement",
   "metadata": {},
   "outputs": [],
   "source": [
    "from bokeh.themes.theme import Theme\n",
    "\n",
    "theme = Theme(\n",
    "    json={\n",
    "    'attrs' : {\n",
    "        'Figure' : {\n",
    "            'background_fill_color': '#5F6062',\n",
    "            'border_fill_color': '#5F6062',\n",
    "            'outline_line_color': '#5F6062',\n",
    "        },\n",
    "        'Grid': {\n",
    "            'grid_line_dash': [6, 4],\n",
    "            'grid_line_alpha': .3,\n",
    "        },\n",
    "\n",
    "        'Axis': {\n",
    "            'major_label_text_color': '#D5E051',\n",
    "            'axis_label_text_color': '#D5E051',\n",
    "            'major_tick_line_color': '#D5E051',\n",
    "            'minor_tick_line_color': '#D5E051',\n",
    "            'axis_line_color': \"#D5E051\"\n",
    "        },\n",
    "        'Title': {\n",
    "            'text_color': '#FFFFFF'\n",
    "        }\n",
    "    }\n",
    "})\n",
    "\n",
    "hv.renderer('bokeh').theme = theme"
   ]
  },
  {
   "cell_type": "code",
   "execution_count": null,
   "id": "64caa34f-6e91-4d10-a62e-d810f2f4ad62",
   "metadata": {},
   "outputs": [],
   "source": [
    "dashboard = pn.Column(title, pn.Spacer(height=15), r1, pn.Spacer(height=20), r2, background='#5F6062', sizing_mode='scale_both', \n",
    "          align='center', min_height=1000, min_width=1050)"
   ]
  },
  {
   "cell_type": "code",
   "execution_count": null,
   "id": "67f7cca3-30c5-4bc6-bd14-98fb549f06cd",
   "metadata": {},
   "outputs": [],
   "source": [
    "dashboard.show(threaded=True)"
   ]
  },
  {
   "cell_type": "markdown",
   "id": "297a3deb-847f-48cc-acc9-51f24295d7e7",
   "metadata": {
    "tags": []
   },
   "source": [
    "### 6.2 Save it"
   ]
  },
  {
   "cell_type": "code",
   "execution_count": null,
   "id": "aware-ghana",
   "metadata": {},
   "outputs": [],
   "source": [
    "# dashboard.save('dashboards/interactive_dash.html')"
   ]
  },
  {
   "cell_type": "markdown",
   "id": "bulgarian-medium",
   "metadata": {},
   "source": [
    "### Exercise"
   ]
  },
  {
   "cell_type": "markdown",
   "id": "adjustable-ordinance",
   "metadata": {},
   "source": [
    "Your task is to take any of the charts \n",
    "\n",
    "1. Create a Tabs element using `pn.Tabs`\n",
    "2. Add the dashboard we created together to one tab\n",
    "3. Add one of the elements you created, and a title to the other tab\n",
    "4. Add an image of Python to the last tab"
   ]
  },
  {
   "cell_type": "code",
   "execution_count": null,
   "id": "fifth-dancing",
   "metadata": {},
   "outputs": [],
   "source": []
  },
  {
   "cell_type": "code",
   "execution_count": null,
   "id": "latest-eating",
   "metadata": {},
   "outputs": [],
   "source": []
  },
  {
   "cell_type": "code",
   "execution_count": null,
   "id": "dangerous-webster",
   "metadata": {},
   "outputs": [],
   "source": []
  },
  {
   "cell_type": "markdown",
   "id": "hazardous-people",
   "metadata": {},
   "source": [
    "## 7. Summary"
   ]
  },
  {
   "cell_type": "markdown",
   "id": "advanced-operator",
   "metadata": {},
   "source": [
    "1. Widgets can be created for categories or discrete numbers and floats, here we have used mainly categories\n",
    "2. Start building your visualisations step by step and once you have an MVP, focus onn wrapping the operations in functions\n",
    "1. Using the tools chosen for the tutorial, interactive charts require functions that are tied to widgets\n",
    "2. These functions get computed every time a value changes and the visual display gets updated\n",
    "3. The larger the dataset the longer repeated computation might take"
   ]
  }
 ],
 "metadata": {
  "kernelspec": {
   "display_name": "Python 3 (ipykernel)",
   "language": "python",
   "name": "python3"
  },
  "language_info": {
   "codemirror_mode": {
    "name": "ipython",
    "version": 3
   },
   "file_extension": ".py",
   "mimetype": "text/x-python",
   "name": "python",
   "nbconvert_exporter": "python",
   "pygments_lexer": "ipython3",
   "version": "3.10.6"
  }
 },
 "nbformat": 4,
 "nbformat_minor": 5
}
