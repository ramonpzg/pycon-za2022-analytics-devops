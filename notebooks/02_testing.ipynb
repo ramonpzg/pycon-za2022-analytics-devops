{
 "cells": [
  {
   "cell_type": "markdown",
   "id": "c7e0f234-3e94-4054-ac36-1aeef9611959",
   "metadata": {},
   "source": [
    "# 02 Testing"
   ]
  },
  {
   "cell_type": "markdown",
   "id": "25c3d3f3-121c-443d-93b2-8857732000f0",
   "metadata": {},
   "source": [
    "> “Never allow the same bug to bite you twice.” ~ Steve Maguire"
   ]
  },
  {
   "cell_type": "markdown",
   "id": "5e5c6723-02ac-453e-9319-08e609ccde25",
   "metadata": {},
   "source": [
    "![xkcd](https://external-preview.redd.it/IF45HthhuYqDcoqg8ci0qOZq3hIYD3c-ZcHhWFv5vfY.jpg?auto=webp&s=198c571c47a14accd7daaa51c704bfe1a4a03b25)\n",
    "\n",
    "**Source:** [xkcd.com](https://xkcd.com/)"
   ]
  },
  {
   "cell_type": "markdown",
   "id": "7258271a-b647-47b6-b4ed-1709225524da",
   "metadata": {},
   "source": [
    "## Table of Contents"
   ]
  },
  {
   "cell_type": "markdown",
   "id": "016fab4a-17b0-44bc-96c3-628a311a100c",
   "metadata": {},
   "source": [
    "1. [Overview](#1.-Overview)\n",
    "2. [Learning Outcomes](#2.-Learning-Outcomes)\n",
    "3. [Tools](#3.-Tools)\n",
    "4. [Testing Code](#4.-Testing-Code)\n",
    "    - 4.0 Testing Correctness of Code\n",
    "        - Flake8\n",
    "        - Black\n",
    "    - 4.1 Testing Types\n",
    "        - MyPy\n",
    "    - 4.2 Testing Most Code You Write\n",
    "        - Built-in Assertions\n",
    "        - PyTest\n",
    "5. [Summary](#5.-Summary)"
   ]
  },
  {
   "cell_type": "markdown",
   "id": "84079827-cb2d-4cdb-93f3-a7a5c13273c7",
   "metadata": {
    "tags": []
   },
   "source": [
    "## 1. Overview"
   ]
  },
  {
   "cell_type": "markdown",
   "id": "0dac3cf6-13be-45e3-8948-52133f50df90",
   "metadata": {},
   "source": [
    "One of the most important parts of creating reproducible code, functional workflows, and data lineage for our projects, is to create tests that make sure things work the way they are supposed to. In order to do this, the Python and the Data Science community have created a set of tools that will allow us to tacke this challenge and, in this part of the workshop, we hope to introduce you to a few concepts of testing that will hopefully get you started writing your own tests.\n",
    "\n",
    "This section presents standalone examples as well some context dependent ones using data from the first section. Instead of using all three files, we will only use the Seoul dataset for our testing examples before we exapand on it in the last section.\n",
    "\n",
    "**Note:** While tests are usually in the realm of data professionals and engineers, subject matter experts and stakeholders can also write tests with you. 😎\n",
    "\n",
    "<p style=\"color:Yellow;\">Action Item...</p> Let's walk-through and run all files in the `src` directory before we move on."
   ]
  },
  {
   "cell_type": "markdown",
   "id": "ad06d1ea-b815-4985-a4e2-212be74d6265",
   "metadata": {
    "tags": []
   },
   "source": [
    "## 2. Learning Outcomes"
   ]
  },
  {
   "cell_type": "markdown",
   "id": "896f0d70-3fad-4e2c-bab8-5588fada2afb",
   "metadata": {},
   "source": [
    "Before we get started, let's go over the learning outcomes for this section of the workshop.\n",
    "\n",
    "By the end of this lesson, you will be able to,\n",
    "1. Write tests for your functions and applications.\n",
    "2. Pick different testing tools for the right task.\n",
    "3. Alternate between REPL environments such as notebooks and scripts while developing your tests.\n",
    "4. Understand different paradigms for testing code and data."
   ]
  },
  {
   "cell_type": "markdown",
   "id": "69d933d5-844d-4aea-86b0-d11d3202cfc0",
   "metadata": {
    "tags": []
   },
   "source": [
    "## 3. Tools"
   ]
  },
  {
   "cell_type": "markdown",
   "id": "81bbe401-3698-4e82-be9f-05a9af354817",
   "metadata": {},
   "source": [
    "![img](https://images.pexels.com/photos/162553/keys-workshop-mechanic-tools-162553.jpeg?auto=compress&cs=tinysrgb&w=1260&h=750&dpr=2)\n",
    "\n",
    "There are a lot of tools for testing in Python. So much so that it could take several sessions over different days to go over all of them, so to make the most of your time, we'll go over a selected few of the ones below.\n",
    "- Code Formatting\n",
    "    - [Flake8](https://flake8.pycqa.org/en/latest/): This is what you call a code linter. These are tools designed to help you enfore a style for writing code, and, depending on its internals, you can make it optional or compulsory to stick to its style convetion. It's is a great tool to get started testing your code.\n",
    "    - [Black](https://black.readthedocs.io/en/stable/): \"By using Black, you agree to cede control over minutiae of hand-formatting. In return, Black gives you speed, determinism, and freedom from pycodestyle nagging about formatting. You will save time and mental energy for more important matters.\"\"\n",
    "- General Code Functionality\n",
    "    - [PyTest](https://docs.pytest.org/en/7.1.x/): The workhorse of testing in Python writes a very humbly definition. \"The pytest framework makes it easy to write small, readable tests, and can scale to support complex functional testing for applications and libraries.\"\n",
    "    - [Mypy](https://mypy.readthedocs.io/en/stable/index.html): \"Mypy is a static type checker for Python 3. If you sprinkle your code with type annotations, mypy can type check your code and find common bugs. As mypy is a static analyzer, or a lint-like tool, the type annotations are just hints for mypy and don’t interfere when running your program.\"\"\n",
    "    - [Pydantic](https://pydantic-docs.helpmanual.io/): \"Data validation and settings management using Python type annotations. pydantic enforces type hints at runtime, and provides user friendly errors when data is invalid.\"\n",
    "- Data\n",
    "    - [pandas.testing](https://pandas.pydata.org/pandas-docs/stable/reference/testing.html): A submodule of the pandas package with a few useful assertions, exceptions, and warnings to make it easier to write tests.\n",
    "    - [great_expectations](https://greatexpectations.io/): Arguably the best tools out there for testing data. In their own words, \"Great Expectations is the leading tool for validating, documenting, and profiling your data to maintain quality and improve communication between teams. Head over to our getting started tutorial. Software developers have long known that automated testing is essential for managing complex codebases. Great Expectations brings the same discipline, confidence, and acceleration to data science and data engineering teams.\"\n",
    "- Property-based Testing\n",
    "    - [Hypothesis](https://hypothesis.readthedocs.io/en/latest/): \"Hypothesis is a Python library for creating unit tests which are simpler to write and more powerful when run, finding edge cases in your code you wouldn’t have thought to look for. It is stable, powerful and easy to add to any existing test suite. It works by letting you write tests that assert that something should be true for every case, not just the ones you happen to think of.\"\n",
    "- Environment Testing\n",
    "    - [tox](https://tox.wiki/en/latest/#): \"tox is a generic virtualenv management and test command line tool you can use for: checking that your package installs correctly with different Python versions and interpreters, running your tests in each of the environments, configuring your test tool of choice, acting as a frontend to Continuous Integration servers, greatly reducing boilerplate and merging CI and shell-based testing.\"  \n",
    "\n",
    "**Note 1:** Most of the definitions above have been taken out straight from the documentation.  \n",
    "**Note 2:** We are not using all of the packages above in this tutorial.\n",
    "\n",
    "There are many, many more tools tools to explore so I'll leave the rest to you and your future PyCon talk or workshop. 😉"
   ]
  },
  {
   "cell_type": "markdown",
   "id": "260691b2-623c-421b-a4db-94bb6e6b1e18",
   "metadata": {
    "tags": []
   },
   "source": [
    "## 4. Testing Code"
   ]
  },
  {
   "cell_type": "markdown",
   "id": "eb4cd9f9-8008-4ca8-ab09-07839774cd9c",
   "metadata": {},
   "source": [
    "Testing code is a crucial activity in software engineering and, sadly, a bit of an after thought in data analytics and data science. It is not as if data professionals are completely at fault here as testing is as much an technical endeavor as it is an art. Writing eloquent and well-put-together tests takes practice, and this session's aim is to help you get started with testing your code and data if you haven't already done so.\n",
    "\n",
    "It is important to note though that not all data professionals stay away from testing, Data Engineers and Machine Learning Engineers have to write production grade code if they want to provide functionally correct applications.\n",
    "\n",
    "DevOps Engineers, on the other hand, live and breathe testing as it is their job to ensure software applications, infrastructure, and automation is working and running smoothly so that every day is business as usual. This takes effort, planning, and experience, and it is rewarding to know the satisfaction of, potentially, millions of people using your company's services and products depends on your technical capabilities and attention to detail.\n",
    "\n",
    "All that said, let's get started with testing.\n",
    "\n",
    "Our first example deals with the lowest hanging fruit of testing, code correctness and formatting."
   ]
  },
  {
   "cell_type": "markdown",
   "id": "e442b3ec-2c69-4595-a456-75eeffecd266",
   "metadata": {},
   "source": [
    "### 4.0 Testing Correctness of Code"
   ]
  },
  {
   "cell_type": "markdown",
   "id": "535f38a9-d52f-4d50-8fdc-a7adde65e3e7",
   "metadata": {
    "tags": []
   },
   "source": [
    "#### Flake8"
   ]
  },
  {
   "cell_type": "markdown",
   "id": "b3f4e520-c15b-43b1-95e7-f01b5b91e207",
   "metadata": {},
   "source": [
    "If you read the description of `flake8` in the earlier sections you know that if the code you write were a fashion mode, flake8 would be the beauty pageant runway your code would walk through. Its design, aethetics, and length influences the way in which you code is perceived and understood, and this is helpful, of course. In the end, though, it's not the clothes or the runway but rather the hanger that matters. 😌\n",
    "\n",
    "That said, to work with `flake8` all we need to do is to call `flake8 path/to/file` and the linting will begin. Let's see it in action."
   ]
  },
  {
   "cell_type": "code",
   "execution_count": null,
   "id": "ef496883-1700-4b96-9a7a-bd712148dcea",
   "metadata": {},
   "outputs": [],
   "source": [
    "!flake8 ../src/get_data.py"
   ]
  },
  {
   "cell_type": "markdown",
   "id": "aa45ba5b-ebf3-4eee-920a-7c4ceea52616",
   "metadata": {},
   "source": [
    "Let's open up the file in a separate window and see how much \"badly formatted\" code we can get rid off."
   ]
  },
  {
   "cell_type": "code",
   "execution_count": null,
   "id": "8c8390a3-3769-4847-a0f0-d8b11f617521",
   "metadata": {},
   "outputs": [],
   "source": [
    "!flake8 ../src/get_data.py"
   ]
  },
  {
   "cell_type": "markdown",
   "id": "4579aabd-4791-45b6-abef-c815885ca2f0",
   "metadata": {
    "tags": []
   },
   "source": [
    "#### Black"
   ]
  },
  {
   "cell_type": "markdown",
   "id": "460fff71-25c7-4323-8af3-884ac0b1dd54",
   "metadata": {},
   "source": [
    "In contrast to flake8, black actually formats your code into an oppinionated but pep8-informed format. This is great if you don't care much about the way your code looks like, but it is somewhat unforgiving in most cases. So handle with care.\n",
    "\n",
    "Let's start with an overengineeredly bad example."
   ]
  },
  {
   "cell_type": "code",
   "execution_count": null,
   "id": "ddbcf6c8-84d7-43b1-b7e0-e4f80e72887a",
   "metadata": {},
   "outputs": [],
   "source": [
    "%%writefile ../src/demo_black.py\n",
    "\n",
    "def this_func (\n",
    "string1, \n",
    "                string2\n",
    "    \n",
    "    \n",
    "):\n",
    "    \n",
    "    \"\"\"I don't know what this does, but oh 🐋\"\"\"\n",
    "    \n",
    "    \n",
    "    \n",
    "    to_lower=       string1.lower()\n",
    "    \n",
    "    \n",
    "    to_upper   = string2.upper()\n",
    "    \n",
    "    \n",
    "    a_list_of_strings    =    list(to_lower, to_upper)\n",
    "    \n",
    "    \n",
    "    a_dict_of_strings = {\n",
    "        'item1'  :  to_lower, \"item2\":\n",
    "        \n",
    "    to_upper,\n",
    "    \"item3\":a_list_of_strings}\n",
    "    return a_dict_of_strings"
   ]
  },
  {
   "cell_type": "code",
   "execution_count": null,
   "id": "434b593c-dea2-44b2-b853-6bb0573069b7",
   "metadata": {},
   "outputs": [],
   "source": [
    "!black ../src/demo_black.py"
   ]
  },
  {
   "cell_type": "markdown",
   "id": "0a4ad625-d7dc-4ddc-9aea-8cde16111310",
   "metadata": {},
   "source": [
    "Let's also see `black`'s magic with one of the files we walked-through earlier. Open up the `split_data.py`  file located in the `src` directory, run the code below, close it and open it again."
   ]
  },
  {
   "cell_type": "code",
   "execution_count": null,
   "id": "f663486d-36bc-42f4-bc47-169f055b7347",
   "metadata": {},
   "outputs": [],
   "source": [
    "!black ../src/split_data.py"
   ]
  },
  {
   "cell_type": "markdown",
   "id": "0b898eef-6e2c-40cb-aa05-e7b914632394",
   "metadata": {},
   "source": [
    "If you like this kind of formatting, you will love integrating black into all of the code you produce."
   ]
  },
  {
   "cell_type": "markdown",
   "id": "370a4605-f267-4147-9861-652cc61c841e",
   "metadata": {
    "tags": []
   },
   "source": [
    "### Exercise"
   ]
  },
  {
   "cell_type": "markdown",
   "id": "6b253095-3138-4a41-a780-e0fc12d7719b",
   "metadata": {},
   "source": [
    "Use both tools above in the following files.\n",
    "\n",
    "1. Make a copy of `prepare_data.py` and make `prepare_data_2.py`\n",
    "2. Run `flake8` on the copy `prepare_data_2.py`\n",
    "3. Reduce the number of warnings from >10 to 5 or less\n",
    "4. Run `black` on the original file `prepare_data.py`\n",
    "5. Run `flake8` on the new file and compare it to your final version of `prepare_data_2.py`"
   ]
  },
  {
   "cell_type": "code",
   "execution_count": null,
   "id": "9ed891bf-1e5e-459f-a8c6-3fe26d06cb46",
   "metadata": {},
   "outputs": [],
   "source": []
  },
  {
   "cell_type": "code",
   "execution_count": null,
   "id": "984df15f-4540-4902-9f20-6aeca7ea1e36",
   "metadata": {},
   "outputs": [],
   "source": []
  },
  {
   "cell_type": "code",
   "execution_count": null,
   "id": "95b5ebe9-3c95-4ab2-ab12-c7298f3f74d1",
   "metadata": {},
   "outputs": [],
   "source": []
  },
  {
   "cell_type": "markdown",
   "id": "0b35152e-528d-406d-b1fd-abd64aebde23",
   "metadata": {
    "tags": []
   },
   "source": [
    "### 4.1 Testing Types"
   ]
  },
  {
   "cell_type": "markdown",
   "id": "c725d64d-f625-4035-bc45-62e09dc2815a",
   "metadata": {},
   "source": [
    "Testing for types involves making sure the the inputs as well as the outputs to our functions are of the kind they are expecting. A common comment/question that usually follows is, I thought Python was dynamically typed language, why would we check the types my functions take in the ones they spit out?\n",
    "\n",
    "The answer is straightforward, it is to add a layer of security to the programs we develop so that we get closer and closer to being 100% sure that our functions will take in some input they are supposed to take while outputting the correct types of values. It is similar to enforcing a data contract between your team of developers and the users of your programs.\n",
    "\n",
    "The good news is that if you don't want to want to spend that much effort writing testing (good luck brave soldier), this tool can get you to a decent place in the testing sphere. The con is that it will be very difficult to detect edge cases with only type enforcement for a test.\n",
    "\n",
    "That said, let's get started with a plain example where a function can take almost any object in Python and add it together even though we only want to add strings."
   ]
  },
  {
   "cell_type": "code",
   "execution_count": null,
   "id": "288c4a26-2533-4606-b1b7-4480f2ee52d9",
   "metadata": {},
   "outputs": [],
   "source": [
    "def i_add_sentences(sentence1, sentence2):\n",
    "    return sentence1 + sentence2"
   ]
  },
  {
   "cell_type": "code",
   "execution_count": null,
   "id": "719b5c5d-3fdf-4c02-8056-30152a69a46d",
   "metadata": {},
   "outputs": [],
   "source": [
    "print(i_add_sentences(\"Hi there, \", \"how's your week been?\"))\n",
    "print(i_add_sentences(1000, 2000))\n",
    "print(i_add_sentences([1, 2, 3, 4], [\"one\", \"two\", \"three\", \"four\"]))"
   ]
  },
  {
   "cell_type": "markdown",
   "id": "6c243fc1-b492-4cf0-be7e-36648e31d487",
   "metadata": {},
   "source": [
    "Okay, we noticed the issue, but how do we do address it? The answer is with type hints.\n",
    "\n",
    "Type hints were introduced in Python 3.0 and ever since, it has grown tremedously over the years. So much so that there now is a typing module in the Python standard library that contains all sorts of types from collections to meta types that allow you to add combinations of types.\n",
    "\n",
    "So how do you get started? You will need to add a colon between the variable name and the type before assignment. For example,"
   ]
  },
  {
   "cell_type": "code",
   "execution_count": null,
   "id": "f739a46a-0bfe-4b11-b68e-e63ea0aa9c6a",
   "metadata": {},
   "outputs": [],
   "source": [
    "string_var: str = \"Hello\"\n",
    "int_var: int = 20"
   ]
  },
  {
   "cell_type": "markdown",
   "id": "fd39a257-baf0-49c5-96a7-711aa2e22d77",
   "metadata": {},
   "source": [
    "You can also do it in your functions."
   ]
  },
  {
   "cell_type": "code",
   "execution_count": null,
   "id": "d8f0aa58-13c1-4908-a066-46a4a13cfba5",
   "metadata": {},
   "outputs": [],
   "source": [
    "def i_add_sentences(sentence1: str, sentence2: str) -> str:\n",
    "    return sentence1 + sentence2"
   ]
  },
  {
   "cell_type": "code",
   "execution_count": null,
   "id": "8e0f808e-95ea-453a-b84d-7fb073de50e5",
   "metadata": {},
   "outputs": [],
   "source": [
    "i_add_sentences(\"This session \", \"is great 😋\")"
   ]
  },
  {
   "cell_type": "markdown",
   "id": "ab338111-684b-4f60-b39f-a47af3b61626",
   "metadata": {},
   "source": [
    "Note that there is a `->` outside of the function. This is to signal that the output should be of type string.\n",
    "\n",
    "Now, the problem is that types are not respected in Python unless we use a program such as `mypy` to enforce them. Have a look at it yourself."
   ]
  },
  {
   "cell_type": "code",
   "execution_count": null,
   "id": "b7761f1e-9d0f-4c58-b777-a2cc2e4a8b5d",
   "metadata": {},
   "outputs": [],
   "source": [
    "i_add_sentences(1000, 5000)"
   ]
  },
  {
   "cell_type": "markdown",
   "id": "a3d415fc-777e-4205-b61d-2b5210c317a6",
   "metadata": {},
   "source": [
    "So how do we fix it?\n",
    "\n",
    "Let's create a tests folder, add out function to it, and run it with `mypy` to see the solution."
   ]
  },
  {
   "cell_type": "code",
   "execution_count": null,
   "id": "6de62fce-7610-4e49-b4c4-b88e0621c18e",
   "metadata": {},
   "outputs": [],
   "source": [
    "from pathlib import Path\n",
    "\n",
    "tests_dir = Path().cwd().parent.joinpath(\"tests\")\n",
    "\n",
    "if not tests_dir.exists(): all_our_tests.mkdir()"
   ]
  },
  {
   "cell_type": "code",
   "execution_count": null,
   "id": "05621091-ea19-45b4-b17b-084785f29aba",
   "metadata": {},
   "outputs": [],
   "source": [
    "!ls .."
   ]
  },
  {
   "cell_type": "code",
   "execution_count": null,
   "id": "c428f66f-9a2e-4ed3-80c3-3b07da853002",
   "metadata": {},
   "outputs": [],
   "source": [
    "%%writefile ../tests/first_test.py\n",
    "\n",
    "def i_add_sentences(sentence1: str, sentence2: str) -> str:\n",
    "    return sentence1 + sentence2\n",
    "\n",
    "if __name__ == \"__main__\":\n",
    "    i_add_sentences(\"Whale, \", \"hello there!\")"
   ]
  },
  {
   "cell_type": "code",
   "execution_count": null,
   "id": "4abb3a36-aef5-4a86-aaa4-b4f2d9d9c65e",
   "metadata": {},
   "outputs": [],
   "source": [
    "!mypy ../tests/first_test.py"
   ]
  },
  {
   "cell_type": "markdown",
   "id": "2dc75d95-067f-4bf8-a33f-8c0f2c353dcf",
   "metadata": {},
   "source": [
    "Excellent! Now change the types to ints or floats, save the file and run `mypy` again."
   ]
  },
  {
   "cell_type": "code",
   "execution_count": null,
   "id": "e32be09f-470a-44ac-9345-e55ca0bbf83e",
   "metadata": {},
   "outputs": [],
   "source": [
    "%%writefile ../tests/first_test.py\n",
    "\n",
    "def i_add_sentences(sentence1: str, sentence2: str) -> str:\n",
    "    return sentence1 + sentence2\n",
    "\n",
    "if __name__ == \"__main__\":\n",
    "    i_add_sentences(28, 17)"
   ]
  },
  {
   "cell_type": "code",
   "execution_count": null,
   "id": "7cff65c7-31cb-488d-90c7-ade2ec681e58",
   "metadata": {},
   "outputs": [],
   "source": [
    "!mypy ../tests/first_test.py"
   ]
  },
  {
   "cell_type": "markdown",
   "id": "6cfad211-2ccb-4181-80a9-5d7d589cecc9",
   "metadata": {},
   "source": [
    "Something to keep in mind about mypy is that it does not recognize a lot of data types coming from other classes, so this makes it tricky to work with custom code. F There are several workarounds for this, of course, and we are encouraged to use them. For example, common packages create what mypy calls stubs, and these additional packages allow mypy to understand the types being passed for other packages. Pandas' package is called `pandas-stubs`.\n",
    "\n",
    "With that out of the way, let's add types to one of our files for our first project, and run `mypy` on it."
   ]
  },
  {
   "cell_type": "markdown",
   "id": "34935b50-1a98-43b8-a26c-0bc8fac4d0e4",
   "metadata": {
    "tags": []
   },
   "source": [
    "### Exercise"
   ]
  },
  {
   "cell_type": "markdown",
   "id": "0425cc1e-9f2a-4a6c-9ebf-026d71896a0c",
   "metadata": {},
   "source": [
    "1. Add type hints to the file `train_model.py` inside the `src` directory.\n",
    "2. Run `mypy` on it and make sure the tests passes."
   ]
  },
  {
   "cell_type": "markdown",
   "id": "228d7ddf-b4c7-4821-8d6a-575e72790d69",
   "metadata": {
    "tags": []
   },
   "source": [
    "### 4.2 Testing Most Code You Write"
   ]
  },
  {
   "cell_type": "markdown",
   "id": "773002aa-7ab9-4eda-9041-e5b327f77e46",
   "metadata": {},
   "source": [
    "Most code testing starts with assertions and it strapolates from there into more robust testing suites. You can think of these assertions as a way for developers to ask their code if it is telling the truth or speaking boloni.\n",
    "\n",
    "We can use assertions to test all kinds of things, and these include\n",
    "- Equality\n",
    "- Something is greater/less than or equal to something else\n",
    "- That values are between a given range\n",
    "- That values exists\n",
    "- ...\n",
    "\n",
    "Let's start with equality."
   ]
  },
  {
   "cell_type": "code",
   "execution_count": null,
   "id": "951bc03d-d90e-41fb-bd29-82400e66e691",
   "metadata": {},
   "outputs": [],
   "source": [
    "assert 10 + 20 == 30"
   ]
  },
  {
   "cell_type": "code",
   "execution_count": null,
   "id": "b1652e3d-27d8-455b-808a-416275a0014d",
   "metadata": {},
   "outputs": [],
   "source": [
    "assert 10 + 20 == 31, \"That does not seem right 🤔\""
   ]
  },
  {
   "cell_type": "markdown",
   "id": "c8230264-86b1-4c10-8b37-f1ad6c54211f",
   "metadata": {},
   "source": [
    "As you can see, Python will yell at you if you disrespect an assertion like that.\n",
    "\n",
    "Let's now see some assertion examples of greater than, less than, and equal to."
   ]
  },
  {
   "cell_type": "code",
   "execution_count": null,
   "id": "552a7436-04c8-468e-8dc4-a791908b5d69",
   "metadata": {},
   "outputs": [],
   "source": [
    "def income_is_not_negative(income):\n",
    "    assert income >= 0, \"This is not a valid entry. Income should positive or 0 but not negative.\""
   ]
  },
  {
   "cell_type": "code",
   "execution_count": null,
   "id": "58b119cf-f0d9-46e4-a019-4c181f5c2fdb",
   "metadata": {},
   "outputs": [],
   "source": [
    "income_is_not_negative(1000)"
   ]
  },
  {
   "cell_type": "code",
   "execution_count": null,
   "id": "357408c7-a305-4363-aec3-12bd6caf0872",
   "metadata": {},
   "outputs": [],
   "source": [
    "income_is_not_negative(-23000)"
   ]
  },
  {
   "cell_type": "markdown",
   "id": "661af424-deae-4676-aa37-5c36dfddf2aa",
   "metadata": {},
   "source": [
    "Note that when assertions pass, they won't do anything. It is when they don't that they will get all moody with us.\n",
    "\n",
    "Let's now see an example of in-between assertions."
   ]
  },
  {
   "cell_type": "code",
   "execution_count": null,
   "id": "08f96bce-8052-42b3-8cb2-4cf7cc65cb6e",
   "metadata": {},
   "outputs": [],
   "source": [
    "def validate_user_ages(ages_list):\n",
    "    for idx, user in enumerate(ages_list):\n",
    "        assert 18 <= user <= 100, f\"Sorry, {ages_list[idx]} is too young and age for our platform, come back when you turn 18.\""
   ]
  },
  {
   "cell_type": "code",
   "execution_count": null,
   "id": "63f9ece5-3252-48ad-8955-0869ce68169d",
   "metadata": {},
   "outputs": [],
   "source": [
    "some_users = [22, 21, 49, 32, 29, 20, 18]\n",
    "validate_user_ages(some_users)"
   ]
  },
  {
   "cell_type": "code",
   "execution_count": null,
   "id": "8235865c-d282-409e-aae9-6c02739ca62d",
   "metadata": {},
   "outputs": [],
   "source": [
    "some_users = [22, 21, 49, 32, 16, 20, 18]\n",
    "validate_user_ages(some_users)"
   ]
  },
  {
   "cell_type": "markdown",
   "id": "c7171ec4-9c0b-4ee9-ba7f-456f06e5ecb2",
   "metadata": {},
   "source": [
    "Lastly (for our examples of assertions and not all the use cases possible), let's see how we can test whether something exists from within a function we are about to use."
   ]
  },
  {
   "cell_type": "code",
   "execution_count": null,
   "id": "944a155c-5de7-4862-9c95-7247db6d2e66",
   "metadata": {},
   "outputs": [],
   "source": [
    "def get_the_max_value(list_of_nums):\n",
    "    assert list_of_nums, \"This list should have at least 1 value\"\n",
    "    return max(list_of_nums)"
   ]
  },
  {
   "cell_type": "code",
   "execution_count": null,
   "id": "b83ec13e-a515-4001-b5d5-ba6cea138f74",
   "metadata": {},
   "outputs": [],
   "source": [
    "get_the_max_value([-20, -10, -7, -17, -5])"
   ]
  },
  {
   "cell_type": "code",
   "execution_count": null,
   "id": "8c9dd991-d5f2-4f0a-99ce-bb9f0c8625c9",
   "metadata": {},
   "outputs": [],
   "source": [
    "get_the_max_value([])"
   ]
  },
  {
   "cell_type": "markdown",
   "id": "f3e424e6-df9f-4b3b-bb74-042e049ef58a",
   "metadata": {},
   "source": [
    "### Exercise"
   ]
  },
  {
   "cell_type": "markdown",
   "id": "26429e1a-c9d5-444e-9062-a85387a2c501",
   "metadata": {},
   "source": [
    "1. Create a function that takes 3 arguments. It must multiply two and divide the result by the third one.\n",
    "2. Create 2 assertions to test the function, one should pass and the other shouldn't."
   ]
  },
  {
   "cell_type": "code",
   "execution_count": null,
   "id": "fa03d921-2466-4079-b35d-922c345c73ae",
   "metadata": {},
   "outputs": [],
   "source": []
  },
  {
   "cell_type": "code",
   "execution_count": null,
   "id": "d7e3df35-2a51-4df1-823a-d86ffdda18fe",
   "metadata": {},
   "outputs": [],
   "source": []
  },
  {
   "cell_type": "markdown",
   "id": "96ee005d-72e2-4d10-bab2-1129d485fc4a",
   "metadata": {},
   "source": [
    "#### Pytest"
   ]
  },
  {
   "cell_type": "markdown",
   "id": "3bd58869-96d8-4ffe-b9e9-e46f517a167a",
   "metadata": {},
   "source": [
    "Without a doubt Pytest is the workhorse of testing in Python. It is a battle tested (pardon the pun) framework used by many applications and at many organizations, and I would go as far as to say that to some degree, it has prevented catastrophic events that could cost a company's business.\n",
    "\n",
    "At its core, testing code with pytest involves a great deal of assertions, and by that I mean those that can be created with Python's own `assert` function and those operations extended by the utilities of other testing frameworks.\n",
    "\n",
    "That said, there are several great functionalities within Pytest which are,\n",
    "- `fixtures` -> these are for handling test dependencies, state, and reusable functionalities\n",
    "- `Marks` -> these allows us to categorize tests while limiting access to external resources\n",
    "- `Parametrization` helps us reduce the amount of code that gets duplicated between tests\n",
    "- `Durations` is for identifying the slowest tests\n",
    "- `Plugins` help us integrate other frameworks and testing tools into pytest\n",
    "\n",
    "Some gotchas to keep in mind if this is the first time you are writing tests, using pytest, simulating the creation of a package, etc.\n",
    "- Pytest will test functions that start with `test_`\n",
    "- Create a directory for your `tests` and name it as such. Note that this means that,\n",
    "- You will need to create a local package allowing you to access function within the files in your src directory.\n",
    "\n",
    "Before we head to some examples please remember, testing in any programming language involves a great deal of art with a sprinkle (or the whole cake) of domain expertise. You don't need to be a full fledge expert in an application's code base to write a useful test, but you might need deep expertise in it to catch bugs that could cost the company a great deal of money.\n",
    "\n",
    "Pytest has a useful magic function that allows us to run tests in our jupyter notebooks. Let's use it here!"
   ]
  },
  {
   "cell_type": "code",
   "execution_count": null,
   "id": "bf0200d0-5180-42cc-a742-df76cd37bcfe",
   "metadata": {},
   "outputs": [],
   "source": [
    "import ipytest, pytest\n",
    "ipytest.autoconfig()"
   ]
  },
  {
   "cell_type": "code",
   "execution_count": null,
   "id": "204d5f31-3ae2-4bb0-9e7d-0785a322e0e4",
   "metadata": {},
   "outputs": [],
   "source": [
    "%%ipytest -vv\n",
    "\n",
    "import statistics as st\n",
    "\n",
    "def test_mode():\n",
    "    assert st.mode([7, 7, 7, 4, 2, 5]) == a_num, \"This is wrong, sorry!\""
   ]
  },
  {
   "cell_type": "code",
   "execution_count": null,
   "id": "9aa5fda6-134a-4d1a-bf8e-5144c34654e9",
   "metadata": {},
   "outputs": [],
   "source": [
    "assert \"WhY IS This SpelleD LiKe ThIs?\".lower() == \"why is this Spelled like this?\""
   ]
  },
  {
   "cell_type": "code",
   "execution_count": null,
   "id": "be858010-7d7a-4658-a714-17587f7d3f55",
   "metadata": {},
   "outputs": [],
   "source": [
    "%%ipytest -vv\n",
    "\n",
    "def test_lower_case():\n",
    "    assert \"WhY IS This SpelleD LiKe ThIs?\".lower() == \"why is this spelled like this?\", \"No Bueno!\""
   ]
  },
  {
   "cell_type": "markdown",
   "id": "4d85f418-7de8-4b54-90a6-034669c3e12d",
   "metadata": {},
   "source": [
    "In order for us to access the functions inside our source directory and import them here in our notebook, we need to set up a python package locally with the following command.\n",
    "\n",
    "```python\n",
    "python setup.py install\n",
    "```\n",
    "Now we can import our functions and start testing."
   ]
  },
  {
   "cell_type": "code",
   "execution_count": null,
   "id": "faf0c94f-a931-4f41-8898-30eeb4efe905",
   "metadata": {},
   "outputs": [],
   "source": [
    "%%ipytest -vv\n",
    "\n",
    "from src.prepare_data import extract_dates\n",
    "\n",
    "def test_amount_of_date_vars_created():\n",
    "    test_df = extract_dates(pd.DataFrame({\"date\": [\"30/04/2022\"], \"hour\": [3]}))\n",
    "    assert len(test_df.columns) == 13\n",
    "    assert test_df.hour[0] == 3"
   ]
  },
  {
   "cell_type": "markdown",
   "id": "4a6de79b-6824-4170-b1ac-1c7d25eb0aae",
   "metadata": {},
   "source": [
    "Let's start with fixtures, which are set up and tare down super charge features"
   ]
  },
  {
   "cell_type": "code",
   "execution_count": null,
   "id": "e0735636-880e-41b6-8ec1-907a2f74b2e5",
   "metadata": {},
   "outputs": [],
   "source": [
    "@pytest.fixture\n",
    "def bad_col():\n",
    "    return [\"this col --- not good\"]\n",
    "\n",
    "@pytest.fixture\n",
    "def good_col():\n",
    "    return [\"this_col__not_good\"]"
   ]
  },
  {
   "cell_type": "code",
   "execution_count": null,
   "id": "dc2f23ce-4ea9-4656-bbd4-9eeaa820f848",
   "metadata": {},
   "outputs": [],
   "source": [
    "%%ipytest -vv\n",
    "\n",
    "from src.prepare_data import clean_col_names\n",
    "\n",
    "def test_cols_func(bad_col, good_col):\n",
    "    assert clean_col_names(bad_col) == good_col"
   ]
  },
  {
   "cell_type": "markdown",
   "id": "25d7a6bf-c87c-482f-822f-21b43a736021",
   "metadata": {},
   "source": [
    "Now let's do parametrization."
   ]
  },
  {
   "cell_type": "code",
   "execution_count": null,
   "id": "2f2a1c2f-03e5-47e2-8e9e-55c19ae4a824",
   "metadata": {},
   "outputs": [],
   "source": [
    "%%ipytest -vv\n",
    "\n",
    "bad_col_good_col = [(\"this col --- not good\", 'this_col__not_good'), \n",
    "                    (\"IT COULD be $%&& worst\", 'it_could_be__worst'), \n",
    "                    (\"seriously !!!--!!!\", 'seriously_')]\n",
    "\n",
    "@pytest.mark.parametrize(\"worst_cols,best_cols\", bad_col_good_col)\n",
    "def test_cols_via_params(worst_cols, best_cols):\n",
    "    clean_col_names(worst_cols) == best_cols, f\"This combo ({worst_cols}, {best_cols}) did not work!\""
   ]
  },
  {
   "cell_type": "markdown",
   "id": "ba037907-db76-49dc-8adb-6fe44aee08ab",
   "metadata": {},
   "source": [
    "### Exercise"
   ]
  },
  {
   "cell_type": "markdown",
   "id": "71c1b23f-bcdd-4957-bd98-be3fa3e8ce7d",
   "metadata": {},
   "source": [
    "1. Pick a function from the files or create one of your own.\n",
    "2. Create two fixtures that would go inside your test functions.\n",
    "3. Create a test for your function."
   ]
  },
  {
   "cell_type": "code",
   "execution_count": null,
   "id": "a803e350-14f5-4faa-ad96-30e5254ceb82",
   "metadata": {},
   "outputs": [],
   "source": []
  },
  {
   "cell_type": "code",
   "execution_count": null,
   "id": "747aaf12-5b30-413b-b266-7aca92eb20c8",
   "metadata": {},
   "outputs": [],
   "source": []
  },
  {
   "cell_type": "code",
   "execution_count": null,
   "id": "f0a027cb-607c-4924-9252-f51d5cd20e05",
   "metadata": {},
   "outputs": [],
   "source": []
  },
  {
   "cell_type": "markdown",
   "id": "96ef2c9e-8240-413e-bf54-f52a5df2e40d",
   "metadata": {},
   "source": [
    "## 5. Summary"
   ]
  },
  {
   "cell_type": "markdown",
   "id": "66c9e7d2-f727-485c-8005-e3b4635157fd",
   "metadata": {},
   "source": [
    "1. Testing is much an art as it is a technical endeavor and it can take time to master either side.\n",
    "2. We don't test just for the sake of testing but rather to create functionality guarantees to our team and our users around the code we write.\n",
    "3. There is a sea of tools our there to do testing in Python and we've just scratched the surface as to what we can do in Python.\n",
    "4. When in doubt, write a test."
   ]
  }
 ],
 "metadata": {
  "kernelspec": {
   "display_name": "Python 3 (ipykernel)",
   "language": "python",
   "name": "python3"
  },
  "language_info": {
   "codemirror_mode": {
    "name": "ipython",
    "version": 3
   },
   "file_extension": ".py",
   "mimetype": "text/x-python",
   "name": "python",
   "nbconvert_exporter": "python",
   "pygments_lexer": "ipython3",
   "version": "3.10.6"
  }
 },
 "nbformat": 4,
 "nbformat_minor": 5
}
