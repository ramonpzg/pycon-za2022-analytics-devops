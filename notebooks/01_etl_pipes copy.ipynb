{
 "cells": [
  {
   "cell_type": "markdown",
   "id": "50d25dea-bcce-4c9a-b95f-32a2ae58606d",
   "metadata": {},
   "source": [
    "# 01 ETL Pipelines"
   ]
  },
  {
   "cell_type": "markdown",
   "id": "1418debb-7181-419f-9f85-f5aab834e1da",
   "metadata": {},
   "source": [
    "> “Without a systematic way to start and keep data clean, bad data will happen.” — Donato Diorio"
   ]
  },
  {
   "cell_type": "markdown",
   "id": "b5154739-1575-4853-9189-e49f044cd76f",
   "metadata": {},
   "source": [
    "![data_flow](https://cdn.dribbble.com/users/1752792/screenshots/5652276/media/12db9ebc672c30dcb4d0fd125f70fb41.png)\n",
    "\n",
    "Source: [Mindaugas Sadūnas](https://dribbble.com/shots/5652276-User-flow/attachments/10982649?mode=media)"
   ]
  },
  {
   "cell_type": "markdown",
   "id": "eb3ca218-3930-4b81-91c6-e0295d23413b",
   "metadata": {},
   "source": [
    "## Table of Contents"
   ]
  },
  {
   "cell_type": "markdown",
   "id": "e86c7ec6-d459-4dc3-aaa9-c71a0ab497c5",
   "metadata": {},
   "source": [
    "1. [Overview](#1.-Overview)\n",
    "2. [Learning Outcomes](#2.-Learning-Outcomes)\n",
    "3. [Data](#3.-Data)\n",
    "4. [Tools](#4.-Tools)\n",
    "5. [Data Pipelines](#5.-Data-Pipelines)\n",
    "6. [🐼 `pipe`lines](#6.-🐼-`pipe`lines)\n",
    "7. [Extract](#7.-Extract)\n",
    "8. [Transform](#8.-Transform)\n",
    "9. [Load](#9.-Load)\n",
    "10. [Launch a Pipeline](#10.-Launch-a-Pipeline)\n",
    "11. [Summary](#11.-Summary)"
   ]
  },
  {
   "cell_type": "markdown",
   "id": "17d1b2e1-134a-4969-9ef9-7cf0bd3ae3ab",
   "metadata": {},
   "source": [
    "## 1. Overview"
   ]
  },
  {
   "cell_type": "markdown",
   "id": "e3e0ed87-4c48-4de9-a071-bef737a3bb24",
   "metadata": {},
   "source": [
    "You are a data analyst working at Beautiful Analytics, and you have been given a project in which you will work using data generated from shared bikes systems in the cities of London (England, UK), Seoul (South Korea), and Washington (DC, USA). Your customer's are the governments of each city and what they want to solve is the same, \n",
    "\n",
    "** A bicycle-sharing system is a shared transport service where bicycles are available for shared use by individuals for a short-term at low or zero cost.\n",
    "\n",
    "**Challenge #1**\n",
    "\n",
    "> To predict/forecast how many bikes they will to need to have available in the city at every hour of the day for the next few years to make sure customers are happy and revenue is maximized?\n",
    "\n",
    "Each government captures similar data but, as you can imagine, they all use different words and measure similar variables in different ways. This means that our first job before we can answer the question above is to fix the data and put it in amore user-friendly way. While we are at it, we should also try and automate our pipeline so that the next time we need to read, transform, and load new versions of all the data sources for this project, we could do so with the click of a button rather than having to write everything again from scratch. So our first real problem is,\n",
    "\n",
    "**Challenge #0**\n",
    "\n",
    "> Create a data pipeline that extracts, transforms and loads the necessary data for the task at hand."
   ]
  },
  {
   "cell_type": "markdown",
   "id": "f0031214-e92e-45cf-82da-f9f15d8b9798",
   "metadata": {},
   "source": [
    "## 2. Learning Outcomes"
   ]
  },
  {
   "cell_type": "markdown",
   "id": "77b7c52a-207b-4de0-b578-c92d6c377b18",
   "metadata": {},
   "source": [
    "Before we get started, let's go over the learning outcomes for this section of the workshop.\n",
    "\n",
    "By the end of this lesson you will be able to,\n",
    "1. Discuss what ETL and ELT Pipelines are.\n",
    "2. Understand how to read and combine data that comes from different sources.\n",
    "3. Create data pipelines using pandas and Prefect.\n",
    "4. Understand how to visualize the pipelines you create to help you with their development."
   ]
  },
  {
   "cell_type": "markdown",
   "id": "1260be10-5397-4c42-b75a-a7fcfe6f19b8",
   "metadata": {},
   "source": [
    "## 3. Data"
   ]
  },
  {
   "cell_type": "markdown",
   "id": "af64f6c3-1e0b-4bd1-8da7-182cb69334fb",
   "metadata": {},
   "source": [
    "![bikes](https://images.pexels.com/photos/11803508/pexels-photo-11803508.jpeg?cs=srgb&dl=pexels-%D1%80%D0%BE%D0%BC%D0%B0%D0%BD-%D0%BA%D0%B0%D0%B4%D1%8C%D0%BA%D0%B0%D0%BB%D0%BE%D0%B2-11803508.jpg&fm=jpg)\n",
    "\n",
    "All three data files contain similar information about how many bicycles have been rented each hour, day, week and months for several years and for each city government we are working with.\n",
    "\n",
    "You can get more information about the data of each city using the following links.\n",
    "\n",
    "- [Seoul, Korea del Sur](https://archive.ics.uci.edu/ml/datasets/Seoul+Bike+Sharing+Demand#)\n",
    "- [London, England, UK](https://www.kaggle.com/hmavrodiev/london-bike-sharing-dataset)\n",
    "- [Washington, DC, USA](https://www.kaggle.com/marklvl/bike-sharing-dataset?select=hour.csv)\n",
    "\n",
    "Here are the variables that appear in the three data files.\n",
    "\n",
    "|     London      |      Seoul      |    Washington   |\n",
    "|:---------------:|:---------------:|:---------------:|\n",
    "| date            | date            | instant         |\n",
    "| count           | count           | date            |\n",
    "| temperature     | hour            | seasons         |\n",
    "| t2              | temperature     | year            |\n",
    "| humidity        | humidity        | month           |\n",
    "| wind_speed      | wind_speed      | hour            |\n",
    "| weather_code    | visibility      | is_holiday      |\n",
    "| is_holiday      | dew_point_temp  | weekday         |\n",
    "| is_weekend      | solar_radiation | workingday      |\n",
    "| seasons         | rainfall        | weathersit      |\n",
    "|                 | snowfall        | temperature     |\n",
    "|                 | seasons         | count           |\n",
    "|                 | is_holiday      | humidity        |\n",
    "|                 | functioning_day | wind_speed      |\n",
    "|                 |                 | casual          |\n",
    "|                 |                 | registered      |\n",
    "\n",
    "Since all of these datasets where generated with different business logic and, most likely, by completely different systems, we can certainly expect more inconsistencies than just unmatching column names, numerical formats, and data collected. We will walk through a few cleaning steps after we discuss the tools we will be using today."
   ]
  },
  {
   "cell_type": "markdown",
   "id": "0339da0a-4df7-4fff-adac-a7222a726eba",
   "metadata": {},
   "source": [
    "## 4. Tools"
   ]
  },
  {
   "cell_type": "markdown",
   "id": "e303b17a-8ca4-42cf-bceb-ddc092dbc926",
   "metadata": {},
   "source": [
    "The tools that we will use in the workshop are the following.\n",
    "\n",
    "- [pandas](https://pandas.pydata.org/) - \"is a fast, powerful, flexible and easy to use open source data analysis and manipulation tool, built on top of the Python programming language.\"\n",
    "- [Prefect](https://docs.prefect.io/) - \"is a new workflow management system, designed for a modern infrastructure and powered by the open source workflow engine, Prefect Core. Users organize tasks into `task`'s and` flow`'s, and Prefect takes care of the rest.\"\n",
    "- [sqlite3](https://docs.python.org/3/library/sqlite3.html) - \"SQLite is a library written in C that provides a lightweight disk-based database that does not require a separate server process and allows the database to be accessed using a non-standard variant of the SQL query language.\"\n",
    "- [pathlib](https://docs.python.org/3/library/pathlib.html) - allows us to manipulate paths as if they were python objects.\n",
    "\n",
    "Before we continue, let's load the modules we'll need and examine our datasets."
   ]
  },
  {
   "cell_type": "code",
   "execution_count": null,
   "id": "3fc7d867",
   "metadata": {},
   "outputs": [],
   "source": [
    "!pip install prefect==2.4.5"
   ]
  },
  {
   "cell_type": "code",
   "execution_count": null,
   "id": "d8218bb9-af89-42e8-a8b2-da3f72d11b2f",
   "metadata": {},
   "outputs": [],
   "source": [
    "import pandas as pd\n",
    "from prefect import flow, task\n",
    "import sqlite3\n",
    "from contextlib import closing\n",
    "from pathlib import Path\n",
    "\n",
    "\n",
    "pd.options.display.max_rows = None\n",
    "pd.options.display.max_columns = None"
   ]
  },
  {
   "cell_type": "code",
   "execution_count": null,
   "id": "d25b9eae-1e6b-49aa-9663-c44f51d377fa",
   "metadata": {},
   "outputs": [],
   "source": [
    "path = Path().cwd().parent.joinpath(\"data\", \"01_part\")\n",
    "path"
   ]
  },
  {
   "cell_type": "markdown",
   "id": "80c21163-7f38-449e-b06e-f53a17a6c389",
   "metadata": {},
   "source": [
    "We will need paths to all of our datasets."
   ]
  },
  {
   "cell_type": "code",
   "execution_count": null,
   "id": "6c09bdcb-8f1d-4841-a257-47189dca98c7",
   "metadata": {},
   "outputs": [],
   "source": [
    "london_path = path.joinpath('raw', 'london', 'london_bikes.db')\n",
    "seoul_path = path.joinpath('raw', 'seoul', 'SeoulBikeData.csv')\n",
    "wash_dc_path = path.joinpath('raw', 'wash_dc', 'washington.json')\n",
    "london_path "
   ]
  },
  {
   "cell_type": "markdown",
   "id": "245e7a82-99dc-4b58-9a9e-193ec91779fe",
   "metadata": {},
   "source": [
    "The data we have about the bikes in London is in a SQLite database and to read it, we first need to create a connection to its database using the `sqlite3` package.\n",
    "\n",
    "The next step is to use the pandas `read_sql_query` function to read the data. This function takes two arguments, the connection to our databaset and the query to get the data we want.\n",
    "\n",
    "Note that we can make quite elaborate queries to get a subset of the data we'll be working with, but for our purposes this is not necessary."
   ]
  },
  {
   "cell_type": "code",
   "execution_count": null,
   "id": "ef427f4a-d37e-4944-b144-465a5eb440aa",
   "metadata": {},
   "outputs": [],
   "source": [
    "conn = sqlite3.connect(london_path)\n",
    "query = \"SELECT * FROM uk_bikes\""
   ]
  },
  {
   "cell_type": "code",
   "execution_count": null,
   "id": "2af05647-6c40-4ae2-8f11-3b086ddcc4b9",
   "metadata": {},
   "outputs": [],
   "source": [
    "london = pd.read_sql_query(query, conn)\n",
    "london.head()"
   ]
  },
  {
   "cell_type": "markdown",
   "id": "c1d3c611-e397-4fdc-8a3d-1501229d9633",
   "metadata": {},
   "source": [
    "Seoul data is in text form and separated by commas, and the data for DC is in JSON format. For these two we can use `pd.read_csv` and` pd.read_json`, respectively."
   ]
  },
  {
   "cell_type": "code",
   "execution_count": null,
   "id": "67208993-6c95-42eb-afa3-fe35c7aebeda",
   "metadata": {},
   "outputs": [],
   "source": [
    "seoul = pd.read_csv(seoul_path)\n",
    "seoul.head()"
   ]
  },
  {
   "cell_type": "code",
   "execution_count": null,
   "id": "e9e583e5-3b38-4f8f-b7ef-835cc93c5dda",
   "metadata": {},
   "outputs": [],
   "source": [
    "washington = pd.read_json(wash_dc_path)\n",
    "washington.head()"
   ]
  },
  {
   "cell_type": "markdown",
   "id": "629dc5e9-e52e-43a9-8843-d93e7e0b9e9f",
   "metadata": {},
   "source": [
    "## 5. Data Pipelines"
   ]
  },
  {
   "cell_type": "markdown",
   "id": "427c3972-16d8-4db1-850d-8d0ea08cc875",
   "metadata": {},
   "source": [
    "![etl_pipe](https://databricks.com/wp-content/uploads/2021/05/ETL-Process.jpg)\n",
    "\n",
    "**What are ETL Pipelines?**\n",
    "\n",
    "The acronym ETL stands for Extract, Transform, and Load, and it is the process by which organizations' data passes through before it reaches the hands of data consumers. Which can be analysts, marketers, sales people, customers, and so on...\n",
    "\n",
    "**Why should you learn how to create them?**\n",
    "\n",
    "As data professionals, our task is to create value for our organizations, our clients and our collaborators using some of, if not all, the data that we have at our disposal. However, to get the most out of our organization's data, we often need\n",
    "1. Information about the process by which it was generated, For example,\n",
    "    - Point of sale\n",
    "    - Clicks on an online marketplace like Amazon, Etzy, Ebay, ect.\n",
    "    - Epidemiological studies\n",
    "    - A/B Test Results\n",
    "    - ...\n",
    "2. Information about the transformations that occurred during the cleaning and merging process. For instance,\n",
    "    - Celcius degrees were converted into fahrenheit\n",
    "    - Prices in Chilean pesos were converted to {insert preferred 💸}\n",
    "    - Non-numerical and unavailable observations now contain \"Not Available\" or \"Unknown\"\n",
    "    - Numerical variables now contain the average or median value in observations where that data is missing. For example, a variable with the salary of all employees of a company now contains $40,000$ / year USD in the values that were not available becuase this was the median value.\n",
    "    - ...\n",
    "3. Information about how the data was stored and where. For instance,\n",
    "    - Parquet format\n",
    "    - NOSQL or SQL database\n",
    "    - CSV\n",
    "    - ...\n",
    "\n",
    "Understanding how the three processes described above flow will help us have more knowledge about the data that we are going to use, and how to best access it, transform it, and model it before we put it to good use.\n",
    "\n",
    "Let's walk through an example of a data pipeline using data from wildfires between 1983-2020 in the United States. You can find more information about the dataset [here](https://www.kaggle.com/kkhandekar/total-wildfires-acres-affected-1983-2020)."
   ]
  },
  {
   "cell_type": "code",
   "execution_count": null,
   "id": "8d94bf09-09fc-4d82-aae6-85860fdd665e",
   "metadata": {},
   "outputs": [],
   "source": [
    "example_data_in = path.joinpath(\"example\", \"federal_firefighting_costs.csv\")"
   ]
  },
  {
   "cell_type": "code",
   "execution_count": null,
   "id": "bc1565fb-8f3f-438b-ae13-3eccd36dd13b",
   "metadata": {},
   "outputs": [],
   "source": [
    "pd.read_csv(example_data_in).head()"
   ]
  },
  {
   "cell_type": "markdown",
   "id": "23c8d481-fc31-4b3d-a4f2-9e50ff7ae90c",
   "metadata": {},
   "source": [
    "As you can see, most columns contain a `$` dollar sign and some `,` commas, and because this forces Python to treat numbers as objects rather than `int`'s or `float`'s, we will have to remove these signs in our transformation step after extracting the data and before loading a clean version of it.\n",
    "\n",
    "- About Prefect - Prefect is a Python-based workflow management system based on a simple premise — Your code probably works, but sometimes it doesn't (source). No one thinks about workflow systems when everything works as expected. But when things go south, Prefect will guarantee your code fails successfully. It creates Directed Acyclic Graphs (DAG's) where nodes are functions of computations linking one step to another.\n",
    "\n",
    "When you use Prefect you have two important APIs, one is the `task` API and the other is` flow`. The former is used as a decorator on top of functions and this allows us to signal to Prefect that our decorated functions can become a node in a graph. The latter represents a set the graph we want to run and it is composed of one or multiple tasks, or even multiple flows.\n",
    "\n",
    "For example, let's create 3 functions, one that extracts the data we need, another that takes anything that is non-numerical out of our variables, and another that loads the cleaned data somewhere. Each function will have the `task` decorator on top of it."
   ]
  },
  {
   "cell_type": "code",
   "execution_count": null,
   "id": "edf3ccc3-a96d-4b84-aa6c-6325ac731153",
   "metadata": {},
   "outputs": [],
   "source": [
    "@task(name=\"Get Data!\")\n",
    "def extract(path):\n",
    "    return pd.read_csv(path)"
   ]
  },
  {
   "cell_type": "markdown",
   "id": "43947f55-bdce-4308-93eb-dcdf533ae144",
   "metadata": {},
   "source": [
    "As you saw above, only the last 5 variables have commas (`,`) and dollar symbols (`$`) so we will replace both with an empty space (` \"\" `) using a `for` loop.\n",
    "\n",
    "For the download process, we will save the data in the `parquet` format. This is one of the most popular formats to save data in due to its compression capabilities, orientation, and speed gains in analytical workloads.\n",
    "\n",
    "Here's an example on the differences between the row-like format and the columnar format of parquet files.\n",
    "\n",
    "![colvsrow](https://3.bp.blogspot.com/-3aUydn8zCsQ/VjslzWCu3pI/AAAAAAAAAI8/XOi77xQNmm0/s1600/Difference-between-Column-based-and-Row-based-Tables.png)\n",
    "\n",
    "Source: [SAP HANA Central](http://www.hanaexam.com/p/row-store-vs-column-store.html)"
   ]
  },
  {
   "cell_type": "code",
   "execution_count": null,
   "id": "b7b387cd-90c7-47a4-9d20-3655f9032514",
   "metadata": {},
   "outputs": [],
   "source": [
    "#takes a CSV dataset and returns a cleaned dataset\n",
    "\n",
    "@task(name=\"Transform Data!\")\n",
    "def transform(data):\n",
    "    for col in data.iloc[:, 1:].columns:\n",
    "        data[col] = data[col].str.replace(r'[^0-9]+', '', regex=True).astype(int)\n",
    "    return data"
   ]
  },
  {
   "cell_type": "code",
   "execution_count": null,
   "id": "f5011755-2449-4c78-b9fc-45d4ef8e532b",
   "metadata": {},
   "outputs": [],
   "source": [
    "@task(name=\"Load Data!\")\n",
    "def load(data, path):\n",
    "    data.to_parquet(path, compression='snappy')"
   ]
  },
  {
   "cell_type": "markdown",
   "id": "8242354e-4d66-4746-b3cb-cf059e0a8eaa",
   "metadata": {},
   "source": [
    "When we have all the steps ready, we create a new function containing our graph using the `flow` decorator. We can give this function a name, for example, `\"Example Pipeline! 😎\"` and then chain the tasks we created previously in the order in which they should be run.\n",
    "\n",
    "After we create our function, we can simply run it with the arguments necessary and Prefect will do its magic."
   ]
  },
  {
   "cell_type": "code",
   "execution_count": null,
   "id": "e0ba992e-7968-42ba-bfec-ad92e06092e0",
   "metadata": {},
   "outputs": [],
   "source": [
    "example_data_out = path.joinpath(\"example\", \"my_test.parquet\") #create a path for the output file\n",
    "type(example_data_out)\n"
   ]
  },
  {
   "cell_type": "code",
   "execution_count": null,
   "id": "62e7dfcd-7c4d-4834-bc38-a51eeb5239b4",
   "metadata": {},
   "outputs": [],
   "source": [
    "@flow(name=\"Example Pipeline! 😎\")\n",
    "def example_etl(example_data_in, example_data_out):\n",
    "    data = extract(example_data_in)\n",
    "    data_clean = transform(data)\n",
    "    load(data_clean, example_data_out)\n",
    "    print(\"Your Pipeline Ran Successfully!\")\n",
    "    "
   ]
  },
  {
   "cell_type": "code",
   "execution_count": null,
   "id": "286864a9-3481-439a-9bec-c624a12ba6e6",
   "metadata": {
    "scrolled": true,
    "tags": []
   },
   "outputs": [],
   "source": [
    "example_etl(example_data_in, example_data_out)#.execute_in_process()"
   ]
  },
  {
   "cell_type": "markdown",
   "id": "350106b9-921a-46c4-8c06-5eade6ab4a37",
   "metadata": {},
   "source": [
    "To see the graph we just ran, we can open the terminal and run `prefect orion start`. This will take us to the Prefect UI where we can evaluate not only the run and graph, but also the parameters and logs collected from all DAGs we run.\n",
    "\n",
    "To make sure we have the correct data, let's create a visualization with pandas and hvplot, a package that allows us to add interactivity to our pandas' charts."
   ]
  },
  {
   "cell_type": "code",
   "execution_count": null,
   "id": "327fc545",
   "metadata": {},
   "outputs": [],
   "source": [
    "!pip install hvplot"
   ]
  },
  {
   "cell_type": "code",
   "execution_count": null,
   "id": "0a32d483-96c3-4998-ad8f-6dd6fd4d3297",
   "metadata": {},
   "outputs": [],
   "source": [
    "import hvplot.pandas"
   ]
  },
  {
   "cell_type": "code",
   "execution_count": null,
   "id": "b7bd5051-0822-4448-8e8e-d82fa2221b80",
   "metadata": {},
   "outputs": [],
   "source": [
    "#load the completed parquet file into Pandas\n",
    "\n",
    "pd.read_parquet(path.joinpath(\"example\", \"my_test.parquet\")).hvplot(x='Year', y=\"ForestService\")"
   ]
  },
  {
   "cell_type": "markdown",
   "id": "e4253750-4e7e-40c5-a2df-193580060fe7",
   "metadata": {},
   "source": [
    "## 6. 🐼 `pipe`lines"
   ]
  },
  {
   "cell_type": "markdown",
   "id": "122909c8-0e1d-4650-8a45-f2ef73495caa",
   "metadata": {},
   "source": [
    "![](https://camo.githubusercontent.com/45ae53e215244585378c3e414ce05abb4f5f6be3/68747470733a2f2f6d656469612e67697068792e636f6d2f6d656469612f4978365150753533576c4236772f67697068792e676966)\n",
    "\n",
    "The `pipe` operator is a pandas function that allows you to chain operations that take a data set, modify it, and return the modified version of the original data. In essence, it allows us to move the data through a series of steps until we reach the structure in which we want to have it.\n",
    "\n",
    "For example, imagine that we have a group of data and 4 functions to fix it, the chain of operations would look like this.\n",
    "\n",
    "```python \n",
    "(data.pipe(change_cols, list_of_cols)\n",
    "     .pipe(clean_numeric_vars, list_of_numeric_vars)\n",
    "     .pipe(add_dates_and_location, 'Auckland', 'NZ')\n",
    "     .pipe(fix_and_drop, 'column_to_fix', seasons_NZ, cols_drop_NZ))\n",
    "```\n",
    "\n",
    "Another way to visualize what happens with pandas' `pipe` is through the following food process where we have ingredients and we actually require food.\n",
    "\n",
    "![img](../images/pandas_pipe.png)\n",
    "\n",
    "Let's start with a small example without `pipe` first."
   ]
  },
  {
   "cell_type": "code",
   "execution_count": null,
   "id": "6084c16c-8acc-4cc7-8d1c-b476bf8e2713",
   "metadata": {},
   "outputs": [],
   "source": [
    "#create some toy data for our Bicycle problem\n",
    "\n",
    "toy_data = pd.DataFrame({\"Postal Codes\": [22345, 32442, 20007], \n",
    "                         \"Cities\":       [\"Miami\", \"Dallas\", \"Washington\"],\n",
    "                         \"Date\":         pd.date_range(start='9/27/2021', periods=3)})\n",
    "toy_data"
   ]
  },
  {
   "cell_type": "code",
   "execution_count": null,
   "id": "a63c6722-7611-416a-b77b-aa8653f38e8f",
   "metadata": {},
   "outputs": [],
   "source": [
    "def change_cols(data, cols_list):\n",
    "    data.columns = cols_list\n",
    "    return data"
   ]
  },
  {
   "cell_type": "code",
   "execution_count": null,
   "id": "834ed627-12be-4d5d-9fd1-ca30474bc8d4",
   "metadata": {},
   "outputs": [],
   "source": [
    "change_cols(toy_data, [\"postal_code\", \"city\", \"date\"])"
   ]
  },
  {
   "cell_type": "markdown",
   "id": "396aae5e-1d73-44e9-ba5f-10db4ec7d294",
   "metadata": {},
   "source": [
    "As you can see, with a single function it doesn't make much sense to pipe the process but with a chain of functions, the story changes.\n",
    "\n",
    "The next thing we want to do is add additional information about the dates we have for each file. We can achieve this after converting the `date` variable to `datetime` format, which will allow us to access the year, month, week, ect. inside each date."
   ]
  },
  {
   "cell_type": "code",
   "execution_count": null,
   "id": "ad291390-f2af-4f67-acb7-5cc21a6d2c29",
   "metadata": {},
   "outputs": [],
   "source": [
    "london_cols = ['date', 'count', 'temperature', 'temp_feels_like', 'humidity', 'wind_speed', 'weather_code', 'is_holiday', 'is_weekend', 'seasons']\n",
    "seoul_cols = ['date', 'count', 'hour', 'temperature', 'humidity', 'wind_speed', 'visibility', 'dew_point_temp', 'solar_radiation', 'rainfall', 'snowfall', 'seasons', 'is_holiday', 'functioning_day']\n",
    "wa_dc_cols = ['instant', 'date', 'seasons', 'year', 'month', 'hour', 'is_holiday', 'weekday', 'workingday', 'weathersit', 'temperature', 'temp_feels_like', 'humidity', 'wind_speed', 'casual', 'registered', 'count']"
   ]
  },
  {
   "cell_type": "code",
   "execution_count": null,
   "id": "c71d8b3c-50bc-4659-8a50-2f7dc92eef97",
   "metadata": {},
   "outputs": [],
   "source": [
    "def add_dates_and_location(data, city, country):\n",
    "    \n",
    "    data['date']       = pd.to_datetime(data['date'], infer_datetime_format=True, dayfirst=True)\n",
    "    data[\"year\"]       = data['date'].dt.year\n",
    "    data[\"month\"]      = data['date'].dt.month\n",
    "    data[\"week\"]       = data['date'].dt.isocalendar().week.astype(int)\n",
    "    data[\"day\"]        = data['date'].dt.day\n",
    "    data[\"weekday\"]    = data['date'].dt.dayofweek\n",
    "    data[\"is_weekend\"] = (data[\"weekday\"] > 4).astype(int)\n",
    "    \n",
    "    # note that we don't want to overwrite data that already has the hour as a column\n",
    "    if 'hour' not in data.columns: \n",
    "        data[\"hour\"]   = data['date'].dt.hour\n",
    "    data['date']       = data['date'].dt.date\n",
    "    \n",
    "    # non-date variables\n",
    "    data['city']       = city\n",
    "    data['country']    = country\n",
    "    \n",
    "    return data"
   ]
  },
  {
   "cell_type": "code",
   "execution_count": null,
   "id": "3968e8ef-b70a-44a6-83c0-dae966e96570",
   "metadata": {},
   "outputs": [],
   "source": [
    "add_dates_and_location(toy_data, \"Sydney\", \"AU\")"
   ]
  },
  {
   "cell_type": "markdown",
   "id": "ae9545f2-af3d-4933-b031-e6c00a2f2e67",
   "metadata": {},
   "source": [
    "As you can see, we added a lot of information to our data with a simple function, but what happens when we want to chain two or three or four operations together? The following would not be very easy to read right? \n",
    "```python\n",
    "add_dates_and_location(change_cols (toy_data, [\" postal_code \",\" city \",\" date \"]),\" Sydney \",\" AU \")\n",
    "```\n",
    "\n",
    "Let's move on to using our `pipe` operator now."
   ]
  },
  {
   "cell_type": "code",
   "execution_count": null,
   "id": "d9d83cb9-dfd4-432e-9461-534be6d0cbd3",
   "metadata": {},
   "outputs": [],
   "source": [
    "#receate the toy dataset\n",
    "\n",
    "toy_data = pd.DataFrame({\"Postal Codes\": [22345, 32442, 20007], \n",
    "                         \"Cities\":       [\"Miami\", \"Dallas\", \"Washington\"],\n",
    "                         \"Date\":         pd.date_range(start='9/27/2021', periods=3)})\n",
    "toy_data"
   ]
  },
  {
   "cell_type": "code",
   "execution_count": null,
   "id": "dd338191-61ef-4db6-a537-20e8fa86a3d8",
   "metadata": {},
   "outputs": [],
   "source": [
    "(\n",
    "    toy_data.pipe(change_cols, [\"zip_code\", \"city\", \"date\"])\n",
    "            .pipe(add_dates_and_location, \"Sydney\", \"AU\")\n",
    ")"
   ]
  },
  {
   "cell_type": "markdown",
   "id": "01d4c21b-2919-4d16-94e0-8b3fea8697c4",
   "metadata": {},
   "source": [
    "As you can see, now our chained functions are more readable than before and we can continue and chain even more functions in the same fashion.\n",
    "\n",
    "In our data we have the stages of the year with different names and we also have variables that we do not need or that are not in the three files. Let's fix both!"
   ]
  },
  {
   "cell_type": "code",
   "execution_count": null,
   "id": "9f83333e",
   "metadata": {},
   "outputs": [],
   "source": [
    "seoul.head()"
   ]
  },
  {
   "cell_type": "code",
   "execution_count": null,
   "id": "e2128c78-d157-4e81-96a4-4cf976290e8f",
   "metadata": {},
   "outputs": [],
   "source": [
    "seasons_london = {0: 'Spring', 1: 'Summer', 2: 'Fall', 3: 'Winter'}\n",
    "seasons_wa_dc = {1: 'Spring', 2: 'Summer', 3: 'Fall', 4: 'Winter'}\n",
    "holidays_seoul = {'No Holiday': 0, 'Holiday': 1}"
   ]
  },
  {
   "cell_type": "code",
   "execution_count": null,
   "id": "f8816693-17ef-4338-910f-53f607ea0f5a",
   "metadata": {},
   "outputs": [],
   "source": [
    "cols_drop_london = ['temp_feels_like', 'weather_code']\n",
    "cols_drop_seoul = ['visibility', 'dew_point_temp', 'solar_radiation', 'rainfall', 'snowfall', 'functioning_day']\n",
    "cols_drop_wa_dc = ['instant', 'temp_feels_like', 'casual', 'registered', 'workingday', 'weathersit']"
   ]
  },
  {
   "cell_type": "code",
   "execution_count": null,
   "id": "07cb7869-8908-4c59-a8de-0ba79f7103c3",
   "metadata": {},
   "outputs": [],
   "source": [
    "#Create a function to update the columns and then drop the non required columns them.\n",
    "\n",
    "def fix_and_drop(data, col_to_fix, mapping, cols_to_drop):\n",
    "    data[col_to_fix] = data[col_to_fix].map(mapping)\n",
    "    return data.drop(cols_to_drop, axis=1)"
   ]
  },
  {
   "cell_type": "markdown",
   "id": "54c47580-aed9-4fba-9e14-c5c2210bcdcd",
   "metadata": {},
   "source": [
    "Let's test the `pipe` operator but with the data from DC now and evaluate the results."
   ]
  },
  {
   "cell_type": "code",
   "execution_count": null,
   "id": "f210a7ef-0e37-4c65-aec1-8d6986c2239b",
   "metadata": {},
   "outputs": [],
   "source": [
    "washington.head()"
   ]
  },
  {
   "cell_type": "code",
   "execution_count": null,
   "id": "7e61ae55-01ad-4fda-8d7e-d593bd00141e",
   "metadata": {},
   "outputs": [],
   "source": [
    "(washington.pipe(change_cols, wa_dc_cols)\n",
    "           .pipe(fix_and_drop, 'seasons', seasons_wa_dc, cols_drop_wa_dc)).head()"
   ]
  },
  {
   "cell_type": "markdown",
   "id": "4022be4a-27dd-450b-9a04-3e79998b6c11",
   "metadata": {},
   "source": [
    "Lastly, we esnt to create a function to normalize the data for DC as the columns are not in the same metric/imperial, etc. system as the rest."
   ]
  },
  {
   "cell_type": "code",
   "execution_count": null,
   "id": "ddefe01c-40fc-4338-80cd-200488d0dbc1",
   "metadata": {},
   "outputs": [],
   "source": [
    "def normalize_vars(data):\n",
    "    data['temperature'] = data['temperature'].apply(lambda x: (x * 47) - 8)\n",
    "    data['humidity']    = data['humidity'].apply(lambda x: (x / 100))\n",
    "    data['wind_speed']  = data['wind_speed'].apply(lambda x: (x / 67))\n",
    "    return data"
   ]
  },
  {
   "cell_type": "markdown",
   "id": "36ea87cb-97a8-414d-b72f-9e9d3192ee3a",
   "metadata": {},
   "source": [
    "Finally, we can use our `pipe` operator again to complete the process and see the end result.\n",
    "\n",
    "Since we haven't created a function to read JSON files, let's create one and call it `extract_data`."
   ]
  },
  {
   "cell_type": "code",
   "execution_count": null,
   "id": "ee3ce8a2-4e9c-4569-ac60-6b0b7e1397cd",
   "metadata": {},
   "outputs": [],
   "source": [
    "def extract_data(path):\n",
    "    return pd.read_json(path)"
   ]
  },
  {
   "cell_type": "code",
   "execution_count": null,
   "id": "b90f03e1-392b-48cc-b2e3-9174eaac265c",
   "metadata": {},
   "outputs": [],
   "source": [
    "washington = (extract_data(wash_dc_path).pipe(change_cols, wa_dc_cols)\n",
    "                                        .pipe(add_dates_and_location, 'DC', 'USA')\n",
    "                                        .pipe(fix_and_drop, 'seasons', seasons_wa_dc, cols_drop_wa_dc)\n",
    "                                        .pipe(normalize_vars))\n",
    "washington.head()"
   ]
  },
  {
   "cell_type": "markdown",
   "id": "3c6b2855-b75f-418c-b9a3-9bfc3d8670d3",
   "metadata": {},
   "source": [
    "## Exercise\n",
    "\n",
    "1. Create a function to extract the London data.\n",
    "2. Create a data pipe similar to the one in Washington using pandas' `pipe`."
   ]
  },
  {
   "cell_type": "code",
   "execution_count": null,
   "id": "86463bad-efc6-4ac7-bb2a-e5991436ca29",
   "metadata": {},
   "outputs": [],
   "source": [
    "london = (london.pipe(change_cols, london_cols)\n",
    "                    .pipe(add_dates_and_location, 'London', 'UK')\n",
    "                    .pipe(fix_and_drop, 'seasons', seasons_london, cols_drop_london))"
   ]
  },
  {
   "cell_type": "code",
   "execution_count": null,
   "id": "b3d60161-f8f1-4cff-be77-ecd7c0280ebe",
   "metadata": {},
   "outputs": [],
   "source": []
  },
  {
   "cell_type": "code",
   "execution_count": null,
   "id": "28377eea-aa32-4775-b1fd-6adeda091065",
   "metadata": {},
   "outputs": [],
   "source": []
  },
  {
   "cell_type": "code",
   "execution_count": null,
   "id": "733222da-f446-4ac5-9f24-5c07b3b345a7",
   "metadata": {},
   "outputs": [],
   "source": []
  },
  {
   "cell_type": "markdown",
   "id": "5d4e2dec-e422-4514-b1d2-184dcdd845ef",
   "metadata": {},
   "source": [
    "## 7. Extract"
   ]
  },
  {
   "cell_type": "markdown",
   "id": "cbf7443d-f824-4be4-bf6d-f9b3f64fae2b",
   "metadata": {},
   "source": [
    "Depending on where the data is, in what format it is stored, and how we can access it, this can either be one of the shortest steps or one of the longest ones in our data pipeline. Here are some of the formats that you might encounter in your day to day.\n",
    "\n",
    "- Text: usually the text format is similar to what we see in Microsoft Excel but without formulas or graphics. For example, CVS or TSV.\n",
    "- JSON: JavaScript Object Notation is a very popular sub-language for its simple syntactics\n",
    "- Databases: These can be SQL, NOSQL, MPP (massively parallel processing), among others.\n",
    "- GeoJSON: It is a type of format for data that contains geographic information. There are many more types of data for GIS.\n",
    "- HTML: Refers to Hyper Text Markup Language and represents the skeleton of almost all web pages in existence.\n",
    "- ...\n",
    "\n",
    "Since we already learned how to create useful pipelines with pandas, we now need to create functions for our main ETL pipeline to automate the process. We can achieve this using the Prefect decorator, `@task` from earlier. This decorator takes note of the functions that we want to link together and helps us create a network in which each node is a function and each link connects one or more functions only once.\n",
    "\n",
    "Remember, the decorator `@task` is also a function within prefect and as such, we can pass several arguments to it that help us modify the behavior of each function in our pipeline.\n",
    "\n",
    "You can learn more about the `task` API in the official docs [here](https://docs.prefect.io/core/concepts/tasks.html#overview)."
   ]
  },
  {
   "cell_type": "code",
   "execution_count": null,
   "id": "9d35f3c5-1e1e-43f2-9ba5-5c320032b4f6",
   "metadata": {
    "scrolled": true,
    "tags": []
   },
   "outputs": [],
   "source": [
    "task?"
   ]
  },
  {
   "cell_type": "code",
   "execution_count": null,
   "id": "f935dd83-0de2-49ab-aaac-ec7bcf1586ad",
   "metadata": {},
   "outputs": [],
   "source": [
    "# Extract from CSV, return dataframe\n",
    "@task\n",
    "def extract_1(path):\n",
    "    return pd.read_csv(path)"
   ]
  },
  {
   "cell_type": "code",
   "execution_count": null,
   "id": "5b63f485-5ec4-49ab-98c7-133bd50e840b",
   "metadata": {},
   "outputs": [],
   "source": [
    "#Extract from SQL, return dataframe\n",
    "\n",
    "@task\n",
    "def extract_2(path):\n",
    "    conn = sqlite3.connect(path)\n",
    "    query = \"SELECT * FROM uk_bikes\"\n",
    "    return pd.read_sql_query(query, conn)"
   ]
  },
  {
   "cell_type": "code",
   "execution_count": null,
   "id": "cc4b97de-bacd-4700-947f-a283107ae666",
   "metadata": {},
   "outputs": [],
   "source": [
    "#extract from a JSON file and convert to dataframe\n",
    "\n",
    "@task\n",
    "def extract_3(path):\n",
    "    return pd.read_json(path)"
   ]
  },
  {
   "cell_type": "markdown",
   "id": "6ca428a5-d2de-4779-814b-442656e8298e",
   "metadata": {},
   "source": [
    "## 8. Transform"
   ]
  },
  {
   "cell_type": "markdown",
   "id": "6c64fc00-a93c-4270-a9a2-b75e96eb5cfa",
   "metadata": {},
   "source": [
    "The most common transformations that happen at this stage are usually the ones we created earlier. In short,\n",
    "\n",
    "- Clean text data\n",
    "- Normalize columns\n",
    "- Convert numeric variables to the same unit\n",
    "- Deal with missing values\n",
    "- Join data\n",
    "\n",
    "Our transform step will be a parent function to our pipe operators from earlier. Hence, a combination of functions handle by a single one."
   ]
  },
  {
   "cell_type": "code",
   "execution_count": null,
   "id": "0ad6cc3e-c39a-4d47-aedb-a1893db562d2",
   "metadata": {},
   "outputs": [],
   "source": [
    "#explain this!!\n",
    "\n",
    "def order_and_merge(data_lists):\n",
    "    \n",
    "    pick_order = data_lists[0].columns\n",
    "    new_list = [d.reindex(columns=pick_order).sort_values(['date', 'hour']) for d in data_lists]\n",
    "    df = pd.concat(new_list)\n",
    "    return df"
   ]
  },
  {
   "cell_type": "code",
   "execution_count": null,
   "id": "418fd9be-307c-4b0b-9e35-34097139b1ba",
   "metadata": {},
   "outputs": [],
   "source": [
    "@task\n",
    "def transform(london, seoul, washington):\n",
    "    \n",
    "    london = (london.pipe(change_cols, london_cols)\n",
    "                    .pipe(add_dates_and_location, 'London', 'UK')\n",
    "                    .pipe(fix_and_drop, 'seasons', seasons_london, cols_drop_london))\n",
    "    \n",
    "    seoul = (seoul.pipe(change_cols, seoul_cols)\n",
    "                  .pipe(add_dates_and_location, 'Seoul', 'SK')\n",
    "                  .pipe(fix_and_drop, 'is_holiday', holidays_seoul, cols_drop_seoul))\n",
    "    \n",
    "    wash_dc = (washington.pipe(change_cols, wa_dc_cols)\n",
    "                         .pipe(add_dates_and_location, 'DC', 'USA')\n",
    "                         .pipe(fix_and_drop, 'seasons', seasons_wa_dc, cols_drop_wa_dc)\n",
    "                         .pipe(normalize_vars))\n",
    "    \n",
    "    return order_and_merge([london, seoul, wash_dc])"
   ]
  },
  {
   "cell_type": "markdown",
   "id": "d6e1a7f2-056f-451b-9d58-7bf6542f3ea0",
   "metadata": {},
   "source": [
    "## 9. Load"
   ]
  },
  {
   "cell_type": "markdown",
   "id": "5732547c-afaa-439d-9dbb-8c3c4dd30f48",
   "metadata": {},
   "source": [
    "We will need to save our new file in a database or in a format in which we are given both what the file occupies and the speed with which we can open and use it. So we will create two paths and two names for the files that we will use later."
   ]
  },
  {
   "cell_type": "code",
   "execution_count": null,
   "id": "3fc80b44-ad24-4a93-9b30-093bbbab7969",
   "metadata": {},
   "outputs": [],
   "source": [
    "clean_path = path/'processed/clean.parquet'\n",
    "clean_db_path = path/'processed/bikes'"
   ]
  },
  {
   "cell_type": "code",
   "execution_count": null,
   "id": "3d458a45-8bbb-42c3-ae0a-a5dafc519162",
   "metadata": {},
   "outputs": [],
   "source": [
    "clean_db_path"
   ]
  },
  {
   "cell_type": "markdown",
   "id": "5fc6d2ab-e08a-45bb-aaa5-2407578f8d90",
   "metadata": {},
   "source": [
    "We will have a function for saving the data in a database. For this, Prefect provides us with a wrapper function around SQLite called, `SQLiteScript` which allows us to create a database and run a SQL scipt on top of it. This comes in hady for large and small operations/prototypes alike."
   ]
  },
  {
   "cell_type": "code",
   "execution_count": null,
   "id": "fd6893ec-de7d-4858-8a2c-e5758b347fbc",
   "metadata": {},
   "outputs": [],
   "source": [
    "#Explain this!!\n",
    "\n",
    "def SQLiteScript(db, script):\n",
    "    with closing(sqlite3.connect(db)) as conn:\n",
    "        with closing(conn.cursor()) as cursor:\n",
    "            cursor.executescript(script)"
   ]
  },
  {
   "cell_type": "code",
   "execution_count": null,
   "id": "785c3c96-c261-48d5-83ab-1fe30bf72307",
   "metadata": {},
   "outputs": [],
   "source": [
    "script= \"\"\"\n",
    "            CREATE TABLE IF NOT EXISTS bike_sharing (\n",
    "                    date text, count integer, temperature real,\n",
    "                    humidity real, wind_speed real, is_holiday real,\n",
    "                    is_weekend integer, seasons text, year integer,\n",
    "                    month integer, week integer, day integer, \n",
    "                    hour integer, weekday integer, city text,\n",
    "                  country text\n",
    "              )\n",
    "\"\"\""
   ]
  },
  {
   "cell_type": "code",
   "execution_count": null,
   "id": "f0b8ed36-4407-403c-b3a7-03d76d95f3fe",
   "metadata": {},
   "outputs": [],
   "source": [
    "#Explain\n",
    "\n",
    "next(washington.itertuples(name='Bikes', index=False))"
   ]
  },
  {
   "cell_type": "code",
   "execution_count": null,
   "id": "ba3a717e-ad6a-4c03-9889-3d47be517c39",
   "metadata": {},
   "outputs": [],
   "source": [
    "@task\n",
    "def load(data, path_and_name):\n",
    "    \n",
    "    data = list(data.itertuples(name='Bikes', index=False))\n",
    "\n",
    "    insert_cmd = \"INSERT INTO bike_sharing VALUES (?, ?, ?, ?, ?, ?, ?, ?, ?, ?, ?, ?, ?, ?, ?, ?)\"\n",
    "    with closing(sqlite3.connect(path_and_name)) as conn:\n",
    "        with closing(conn.cursor()) as cursor:\n",
    "            cursor.executemany(insert_cmd, data)\n",
    "            conn.commit()"
   ]
  },
  {
   "cell_type": "markdown",
   "id": "f6ffe40b-8bd1-443c-8f95-5300f282e153",
   "metadata": {},
   "source": [
    "## 10. Launch a Pipeline"
   ]
  },
  {
   "cell_type": "markdown",
   "id": "fd3f800a-c8f4-41c1-b275-2c2a5b6d970d",
   "metadata": {},
   "source": [
    "In the same fashion as before, we will combine our functions in a function decorated with `flow` to signal to prefect's scheduler that we have a DAG we would like to run."
   ]
  },
  {
   "cell_type": "code",
   "execution_count": null,
   "id": "0c4e9c43-4c96-47a7-9efe-47f90ce8383e",
   "metadata": {},
   "outputs": [],
   "source": [
    "@flow(name='bikes-ETL')\n",
    "def my_etl():\n",
    "    \n",
    "    new_table = SQLiteScript(db=str(clean_db_path), script=script)\n",
    "    \n",
    "    london = extract_2(london_path)\n",
    "    seoul = extract_1(seoul_path)\n",
    "    wash_dc = extract_3(wash_dc_path)\n",
    "    \n",
    "    transformed = transform(london, seoul, wash_dc)\n",
    "        \n",
    "    data_loaded = load(transformed, clean_db_path)"
   ]
  },
  {
   "cell_type": "markdown",
   "id": "150c8970-b47f-4096-a8b5-f489a38501fd",
   "metadata": {},
   "source": [
    "Running our pipeline is as simple as calling the function. In addition, even though we did not pass in any parameters to our flow function, it can contain any number of them if we choose to."
   ]
  },
  {
   "cell_type": "code",
   "execution_count": null,
   "id": "e83f8f69-f26b-41e8-a7aa-405be951e210",
   "metadata": {
    "scrolled": true,
    "tags": []
   },
   "outputs": [],
   "source": [
    "my_etl()"
   ]
  },
  {
   "cell_type": "code",
   "execution_count": null,
   "id": "e60a30ab-e495-419c-a4f0-6bb6b38844ab",
   "metadata": {},
   "outputs": [],
   "source": [
    "pd.read_sql_query(\"SELECT * FROM bike_sharing\", sqlite3.connect(clean_db_path)).head()"
   ]
  },
  {
   "cell_type": "markdown",
   "id": "714b1086-66ba-42db-b9dd-9929aefe1c82",
   "metadata": {
    "tags": []
   },
   "source": [
    "## Exercise\n",
    "\n",
    "Change the function to unload (`load ()`) and make it save the results in `parquet` format. Run the pipeline again and make sure the results are the same as above by reading the data with pandas' respective function for parquet files."
   ]
  },
  {
   "cell_type": "code",
   "execution_count": null,
   "id": "b8921afa-8dca-48e2-a8fb-2df5faef110a",
   "metadata": {},
   "outputs": [],
   "source": []
  },
  {
   "cell_type": "code",
   "execution_count": null,
   "id": "43ec06a2-5004-43cc-b657-03ec0f40394d",
   "metadata": {},
   "outputs": [],
   "source": []
  },
  {
   "cell_type": "code",
   "execution_count": null,
   "id": "8fb6024f-76d8-40c4-84f1-71d35dd3b510",
   "metadata": {},
   "outputs": [],
   "source": []
  },
  {
   "cell_type": "markdown",
   "id": "06074f70-0769-4ed1-8b56-6c15e43451ef",
   "metadata": {},
   "source": [
    "## 11. Summary"
   ]
  },
  {
   "cell_type": "markdown",
   "id": "3aa474f7-6585-42ee-a4df-3de9743fe279",
   "metadata": {},
   "source": [
    "1. Creating ETL pipes helps us automate the cleaning steps to prepare our datasets.\n",
    "2. pandas `pipe` helps you chain functions that operate on a dataframe and return a dataframe, effectively helping us save time and lines of code.\n",
    "3. Prefect helps us create, monitor, and schedule directed acyclic graphs represented via the steps of our cleaning process."
   ]
  }
 ],
 "metadata": {
  "kernelspec": {
   "display_name": "Python 3.10.6 ('pyconenv')",
   "language": "python",
   "name": "python3"
  },
  "language_info": {
   "codemirror_mode": {
    "name": "ipython",
    "version": 3
   },
   "file_extension": ".py",
   "mimetype": "text/x-python",
   "name": "python",
   "nbconvert_exporter": "python",
   "pygments_lexer": "ipython3",
   "version": "3.10.6"
  },
  "vscode": {
   "interpreter": {
    "hash": "55f2775f36fc19ad5f9d20ae80b68bafeff93cdfb6d26175496c24e2d6f30657"
   }
  }
 },
 "nbformat": 4,
 "nbformat_minor": 5
}
